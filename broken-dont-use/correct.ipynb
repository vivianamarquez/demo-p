{
 "cells": [
  {
   "cell_type": "code",
   "execution_count": 78,
   "id": "4609d1a7",
   "metadata": {},
   "outputs": [],
   "source": [
    "import openai\n",
    "from openai import OpenAI\n",
    "import uuid\n",
    "import os\n",
    "import requests\n",
    "import json\n",
    "import urllib.parse\n",
    "from datetime import datetime\n",
    "from dotenv import load_dotenv\n",
    "import pandas as pd\n",
    "from io import StringIO"
   ]
  },
  {
   "cell_type": "code",
   "execution_count": 102,
   "id": "db0d26f5",
   "metadata": {},
   "outputs": [],
   "source": [
    "# authenticate"
   ]
  },
  {
   "cell_type": "code",
   "execution_count": 15,
   "id": "1b862a5a",
   "metadata": {},
   "outputs": [],
   "source": [
    "load_dotenv()\n",
    "client = OpenAI(api_key=os.getenv('OPENAI_API_KEY'))\n",
    "prolific_token = os.getenv(\"PROLIFIC_API_TOKEN\")\n",
    "\n"
   ]
  },
  {
   "cell_type": "code",
   "execution_count": null,
   "id": "8175c40e",
   "metadata": {},
   "outputs": [],
   "source": [
    "headers = {\n",
    "    \"Authorization\": f\"Token {prolific_token}\",\n",
    "    \"Content-Type\": \"application/json\"\n",
    "}"
   ]
  },
  {
   "cell_type": "code",
   "execution_count": 16,
   "id": "d8c4c9f9",
   "metadata": {},
   "outputs": [],
   "source": [
    "# Fetch researcher ID\n",
    "res = requests.get(\"https://api.prolific.com/api/v1/users/me/\", headers=headers)\n",
    "researcher_id = res.json()[\"id\"]"
   ]
  },
  {
   "cell_type": "code",
   "execution_count": 17,
   "id": "fe539d2f",
   "metadata": {},
   "outputs": [
    {
     "data": {
      "text/plain": [
       "'681781ab4a7728c1570e977c'"
      ]
     },
     "execution_count": 17,
     "metadata": {},
     "output_type": "execute_result"
    }
   ],
   "source": [
    "researcher_id"
   ]
  },
  {
   "cell_type": "code",
   "execution_count": 18,
   "id": "56ad01ee",
   "metadata": {},
   "outputs": [],
   "source": [
    "user_message = \"hope u dont go bald\""
   ]
  },
  {
   "cell_type": "code",
   "execution_count": 19,
   "id": "9c9a40cf",
   "metadata": {},
   "outputs": [],
   "source": [
    "response = client.chat.completions.create(\n",
    "    model=\"gpt-3.5-turbo\",\n",
    "    messages=[\n",
    "        {\"role\": \"system\", \"content\": \"Given a user message, respond what do you think is the intention behind the message in a short sentence.\"},\n",
    "        {\"role\": \"user\", \"content\": user_message}\n",
    "    ]\n",
    ")"
   ]
  },
  {
   "cell_type": "code",
   "execution_count": 20,
   "id": "3aaa1e93",
   "metadata": {},
   "outputs": [],
   "source": [
    "intent = response.choices[0].message.content.strip()"
   ]
  },
  {
   "cell_type": "code",
   "execution_count": 21,
   "id": "334743ce",
   "metadata": {},
   "outputs": [
    {
     "data": {
      "text/plain": [
       "'The user is expressing concern or wishing that the person does not experience hair loss.'"
      ]
     },
     "execution_count": 21,
     "metadata": {},
     "output_type": "execute_result"
    }
   ],
   "source": [
    "intent"
   ]
  },
  {
   "cell_type": "code",
   "execution_count": 24,
   "id": "6f29c05b",
   "metadata": {},
   "outputs": [
    {
     "name": "stdout",
     "output_type": "stream",
     "text": [
      "If the user sent the message: 'hope u dont go bald'. If the AI interpreted the intent as: 'The user is expressing concern or wishing that the person does not experience hair loss.' Do you think the AI got the intent right?\n"
     ]
    }
   ],
   "source": [
    "# Build the full survey question\n",
    "question_text = (\n",
    "    f\"If the user sent the message: '{user_message}'. \"\n",
    "    f\"If the AI interpreted the intent as: \"\n",
    "    f\"'{intent}' \"\n",
    "    \"Do you think the AI got the intent right?\"\n",
    ")\n",
    "print(question_text)"
   ]
  },
  {
   "cell_type": "code",
   "execution_count": 27,
   "id": "7b82bbe6",
   "metadata": {},
   "outputs": [],
   "source": [
    "# Generate UUIDs for question and answers\n",
    "section_id = str(uuid.uuid4())\n",
    "question_id = str(uuid.uuid4())\n",
    "answer_yes_id = str(uuid.uuid4())\n",
    "answer_no_id = str(uuid.uuid4())"
   ]
  },
  {
   "cell_type": "code",
   "execution_count": 28,
   "id": "e3e1b335",
   "metadata": {},
   "outputs": [],
   "source": [
    "# Build the payload\n",
    "survey_data = {\n",
    "    \"researcher_id\": researcher_id, \n",
    "    \"title\": \"Did the AI interpret the message correctly?\",\n",
    "    \"sections\": [\n",
    "        {\n",
    "            \"id\": section_id,\n",
    "            \"title\": \"Intent Evaluation\",\n",
    "            \"questions\": [\n",
    "                {\n",
    "                    \"id\": question_id,\n",
    "                    \"title\": question_text,\n",
    "                    \"type\": \"single\",\n",
    "                    \"answers\": [\n",
    "                        {\"id\": answer_yes_id, \"value\": \"Yes\"},\n",
    "                        {\"id\": answer_no_id, \"value\": \"No\"}\n",
    "                    ]\n",
    "                }\n",
    "            ]\n",
    "        }\n",
    "    ],\n",
    "    \"questions\": [  # Flat list of questions (same structure)\n",
    "        {\n",
    "            \"id\": question_id,\n",
    "            \"title\": question_text,\n",
    "            \"type\": \"single\",\n",
    "            \"answers\": [\n",
    "                {\"id\": answer_yes_id, \"value\": \"Yes\"},\n",
    "                {\"id\": answer_no_id, \"value\": \"No\"}\n",
    "            ]\n",
    "        }\n",
    "    ]\n",
    "}"
   ]
  },
  {
   "cell_type": "code",
   "execution_count": 30,
   "id": "f2483a14",
   "metadata": {},
   "outputs": [
    {
     "name": "stdout",
     "output_type": "stream",
     "text": [
      "201\n",
      "{'_id': '686593323dbca8c28ba85b5a', 'date_created': '2025-07-02T20:14:42.313221+00:00', 'date_modified': '2025-07-02T20:14:42.313227+00:00', 'researcher_id': '681781ab4a7728c1570e977c', 'sections': [{'id': '29d6e1a1-7f9f-4e73-ad69-48c0a5e44b4d', 'questions': [{'answers': [{'id': '551ded0c-a9e4-4d17-8982-75f25556b8ca', 'value': 'Yes'}, {'id': '4bd942b5-184a-41be-958c-174bc9ceffc7', 'value': 'No'}], 'id': 'e75cefd9-1251-4de9-9fbb-eee86f34ac40', 'title': \"If the user sent the message: 'hope u dont go bald'. If the AI interpreted the intent as: 'The user is expressing concern or wishing that the person does not experience hair loss.' Do you think the AI got the intent right?\", 'type': 'single'}], 'title': 'Intent Evaluation'}], 'questions': [{'answers': [{'id': '551ded0c-a9e4-4d17-8982-75f25556b8ca', 'value': 'Yes'}, {'id': '4bd942b5-184a-41be-958c-174bc9ceffc7', 'value': 'No'}], 'id': 'e75cefd9-1251-4de9-9fbb-eee86f34ac40', 'title': \"If the user sent the message: 'hope u dont go bald'. If the AI interpreted the intent as: 'The user is expressing concern or wishing that the person does not experience hair loss.' Do you think the AI got the intent right?\", 'type': 'single'}], 'title': 'Did the AI interpret the message correctly?'}\n"
     ]
    }
   ],
   "source": [
    "response = requests.post(\n",
    "    \"https://api.prolific.com/api/v1/surveys/\",\n",
    "    headers=headers,  \n",
    "    data=json.dumps(survey_data)\n",
    ")\n",
    "\n",
    "print(response.status_code)\n",
    "print(response.json())"
   ]
  },
  {
   "cell_type": "code",
   "execution_count": 31,
   "id": "884cf80a",
   "metadata": {},
   "outputs": [],
   "source": [
    "survey_id = response.json()[\"_id\"]"
   ]
  },
  {
   "cell_type": "code",
   "execution_count": 32,
   "id": "28b9c1c2",
   "metadata": {},
   "outputs": [
    {
     "data": {
      "text/plain": [
       "'686593323dbca8c28ba85b5a'"
      ]
     },
     "execution_count": 32,
     "metadata": {},
     "output_type": "execute_result"
    }
   ],
   "source": [
    "survey_id"
   ]
  },
  {
   "cell_type": "code",
   "execution_count": 33,
   "id": "95e4e6d1",
   "metadata": {},
   "outputs": [],
   "source": [
    "study_config = {\n",
    "    \"reward\": 0.50,\n",
    "    \"participants\": 10,\n",
    "    \"estimated_time\": 2,\n",
    "    \"max_time\": 10,\n",
    "    \"age_range\": \"18-28\",\n",
    "    \"countries\": [\"US\"]\n",
    "}"
   ]
  },
  {
   "cell_type": "code",
   "execution_count": 34,
   "id": "9a5310b8",
   "metadata": {},
   "outputs": [],
   "source": [
    "completion_code = f\"INTENT_{datetime.now().strftime('%Y%m%d_%H%M%S')}\"\n",
    "estimated_time = int(study_config.get('estimated_time', 2))\n",
    "max_time = int(study_config.get('max_time', 10))\n",
    "reward_dollars = float(study_config.get('reward', 0.50))\n",
    "reward_cents = int(reward_dollars * 100)\n",
    "participants = int(study_config.get('participants', 10))\n",
    "age_min, age_max = map(int, study_config.get('age_range', '18-25').split('-'))\n",
    "countries = study_config.get('countries', ['US'])"
   ]
  },
  {
   "cell_type": "code",
   "execution_count": 35,
   "id": "4f9e50c6",
   "metadata": {},
   "outputs": [],
   "source": [
    "prolific_country_choices = {\n",
    "    'GB': '0', 'US': '1'}"
   ]
  },
  {
   "cell_type": "code",
   "execution_count": 36,
   "id": "e31b6631",
   "metadata": {},
   "outputs": [],
   "source": [
    "prolific_country_ids = [prolific_country_choices[c] for c in countries if c in prolific_country_choices]"
   ]
  },
  {
   "cell_type": "code",
   "execution_count": 37,
   "id": "edea8a70",
   "metadata": {},
   "outputs": [],
   "source": [
    "filters = [\n",
    "    {\"filter_id\": \"age\", \"selected_range\": {\"lower\": age_min, \"upper\": age_max}}\n",
    "]"
   ]
  },
  {
   "cell_type": "code",
   "execution_count": 38,
   "id": "1961edce",
   "metadata": {},
   "outputs": [],
   "source": [
    "if prolific_country_ids:\n",
    "    filters.append({\n",
    "        \"filter_id\": \"current-country-of-residence\",\n",
    "        \"selected_values\": prolific_country_ids\n",
    "    })"
   ]
  },
  {
   "cell_type": "code",
   "execution_count": 40,
   "id": "c582a75d",
   "metadata": {},
   "outputs": [],
   "source": [
    "study_data = {\n",
    "    \"name\": f\"AI Intent Evaluation - {datetime.now().strftime('%Y-%m-%d %H:%M')}\",\n",
    "    \"internal_name\": f\"AI Intent Study {datetime.now().strftime('%Y%m%d_%H%M%S')}\",\n",
    "    \"description\": \"Evaluate whether an AI correctly identified the intent behind a user message\",\n",
    "    \"external_study_url\": f\"https://prolific.com/surveys/{survey_id}\",\n",
    "    \"completion_codes\": [{\n",
    "        \"code\": completion_code,\n",
    "        \"code_type\": \"COMPLETED\",\n",
    "        \"actions\": [{\"action\": \"AUTOMATICALLY_APPROVE\"}]\n",
    "    }],\n",
    "    \"estimated_completion_time\": estimated_time,\n",
    "    \"maximum_allowed_time\": max_time,\n",
    "    \"reward\": reward_cents,\n",
    "    \"total_available_places\": participants,\n",
    "    \"device_compatibility\": [\"desktop\"],\n",
    "    \"peripheral_requirements\": [],\n",
    "    \"filters\": filters,\n",
    "    \"privacy_notice\": \"Your data will be used for research purposes only and will be kept confidential.\"\n",
    "}"
   ]
  },
  {
   "cell_type": "code",
   "execution_count": 41,
   "id": "10267ff3",
   "metadata": {},
   "outputs": [],
   "source": [
    "study_response = requests.post(\n",
    "    \"https://api.prolific.com/api/v1/studies/\",\n",
    "    headers=headers,\n",
    "    data=json.dumps(study_data)\n",
    ")"
   ]
  },
  {
   "cell_type": "code",
   "execution_count": 42,
   "id": "2cfdeb69",
   "metadata": {},
   "outputs": [
    {
     "data": {
      "text/plain": [
       "<Response [201]>"
      ]
     },
     "execution_count": 42,
     "metadata": {},
     "output_type": "execute_result"
    }
   ],
   "source": [
    "study_response"
   ]
  },
  {
   "cell_type": "code",
   "execution_count": 43,
   "id": "9815a175",
   "metadata": {},
   "outputs": [
    {
     "name": "stdout",
     "output_type": "stream",
     "text": [
      "Study created: 6865959666a4fefec3a5c60e\n"
     ]
    }
   ],
   "source": [
    "study_id = study_response.json().get(\"id\")\n",
    "print(f\"Study created: {study_id}\")"
   ]
  },
  {
   "cell_type": "code",
   "execution_count": 44,
   "id": "6571f74c",
   "metadata": {},
   "outputs": [],
   "source": [
    "publish_response = requests.post(\n",
    "        f\"https://api.prolific.com/api/v1/studies/{study_id}/transition/\",\n",
    "        headers=headers,\n",
    "        data=json.dumps({\"action\": \"PUBLISH\"})\n",
    "    )"
   ]
  },
  {
   "cell_type": "code",
   "execution_count": 47,
   "id": "0b32e40a",
   "metadata": {},
   "outputs": [
    {
     "name": "stdout",
     "output_type": "stream",
     "text": [
      "Study published!\n"
     ]
    }
   ],
   "source": [
    "if publish_response.status_code == 200:\n",
    "        print(\"Study published!\")\n",
    "else:\n",
    "    print(\"Failed to publish study.\")\n",
    "    print(\"Study URL:\", study_response.json().get('external_study_url'))\n",
    "    print(\"Completion code:\", completion_code)"
   ]
  },
  {
   "cell_type": "code",
   "execution_count": 48,
   "id": "7ecb9a35",
   "metadata": {},
   "outputs": [],
   "source": [
    "response = requests.get(\n",
    "    f\"https://api.prolific.com/api/v1/studies/{study_id}/\",\n",
    "    headers=headers\n",
    ")"
   ]
  },
  {
   "cell_type": "code",
   "execution_count": 49,
   "id": "2a4531bd",
   "metadata": {},
   "outputs": [
    {
     "name": "stdout",
     "output_type": "stream",
     "text": [
      "Study Status: ACTIVE\n",
      "Total places: 10\n",
      "Completed submissions: None\n"
     ]
    }
   ],
   "source": [
    "if response.status_code == 200:\n",
    "    study_info = response.json()\n",
    "    print(\"Study Status:\", study_info.get(\"status\"))\n",
    "    print(\"Total places:\", study_info.get(\"total_available_places\"))\n",
    "    print(\"Completed submissions:\", study_info.get(\"total_completed\"))\n",
    "else:\n",
    "    print(\"Failed to fetch study info:\", response.status_code)\n"
   ]
  },
  {
   "cell_type": "code",
   "execution_count": 51,
   "id": "dd07ab4e",
   "metadata": {
    "scrolled": true
   },
   "outputs": [
    {
     "name": "stdout",
     "output_type": "stream",
     "text": [
      "5 submissions found.\n",
      "{'participant': '62851efba924ed81f6f0e7f4', 'status': 'APPROVED', 'started': '2025-07-02T20:30:33.764000Z', 'completed': '2025-07-02T20:30:42.337000Z'}\n",
      "{'participant': '6713eb5e48cc2fd21195379f', 'status': 'APPROVED', 'started': '2025-07-02T20:28:50.961000Z', 'completed': '2025-07-02T20:29:10.935000Z'}\n",
      "{'participant': '66a8943bc033e1485a6331a1', 'status': 'AWAITING REVIEW', 'started': '2025-07-02T20:30:59.452000Z', 'completed': '2025-07-02T20:31:16.846000Z'}\n",
      "{'participant': '6113ffbf45e79bc2769db74c', 'status': 'AWAITING REVIEW', 'started': '2025-07-02T20:31:17.065000Z', 'completed': '2025-07-02T20:31:34.538000Z'}\n",
      "{'participant': '67ee795beb74f4d224497dac', 'status': 'AWAITING REVIEW', 'started': '2025-07-02T20:30:59.030000Z', 'completed': '2025-07-02T20:31:33.581000Z'}\n"
     ]
    }
   ],
   "source": [
    "response = requests.get(\n",
    "    f\"https://api.prolific.com/api/v1/submissions/?study={study_id}\",\n",
    "    headers=headers\n",
    ")\n",
    "\n",
    "if response.status_code == 200:\n",
    "    submissions = response.json().get(\"results\", [])\n",
    "    print(f\"{len(submissions)} submissions found.\")\n",
    "    for s in submissions:\n",
    "        print({\n",
    "            \"participant\": s[\"participant_id\"],\n",
    "            \"status\": s[\"status\"],  # e.g., APPROVED, RETURNED, TIMED_OUT\n",
    "            \"started\": s[\"started_at\"],\n",
    "            \"completed\": s[\"completed_at\"]\n",
    "        })\n",
    "else:\n",
    "    print(\"Failed to fetch submissions:\", response.status_code)\n"
   ]
  },
  {
   "cell_type": "code",
   "execution_count": 83,
   "id": "bbaf2af6",
   "metadata": {},
   "outputs": [],
   "source": [
    "study_response = requests.get(\n",
    "        f\"https://api.prolific.com/api/v1/studies/{study_id}/\",\n",
    "        headers=headers)"
   ]
  },
  {
   "cell_type": "code",
   "execution_count": 97,
   "id": "2bd31444",
   "metadata": {},
   "outputs": [
    {
     "name": "stdout",
     "output_type": "stream",
     "text": [
      "✅ Study Name: AI Intent Evaluation - 2025-07-02 13:24\n",
      "📊 Status: COMPLETED\n",
      "👥 Total Places: 10\n",
      "📩 Total Submissions: 10\n",
      "⏳ Created at: 02 Jul 2025, 08:25 PM UTC\n"
     ]
    }
   ],
   "source": [
    "study_info = study_response.json()\n",
    "status = study_info.get(\"status\")\n",
    "name = study_info.get(\"name\")\n",
    "created_at = study_info.get(\"created_at\")\n",
    "total_places = study_info.get(\"total_available_places\")\n",
    "total_places_taken = study_info.get(\"places_taken\")\n",
    "created_at = datetime.fromisoformat(study_info.get(\"published_at\").replace(\"Z\", \"+00:00\")).strftime(\"%d %b %Y, %I:%M %p UTC\")\n",
    "\n",
    "\n",
    "print(f\"✅ Study Name: {name}\")\n",
    "print(f\"📊 Status: {status}\")\n",
    "print(f\"👥 Total Places: {total_places}\")\n",
    "print(f\"📩 Total Submissions: {total_places_taken}\")\n",
    "print(f\"⏳ Created at: {created_at}\")"
   ]
  },
  {
   "cell_type": "code",
   "execution_count": 85,
   "id": "d9f5ce3e",
   "metadata": {
    "scrolled": true
   },
   "outputs": [],
   "source": [
    "responses = f'https://api.prolific.com/api/v1/studies/{study_id}/export/'"
   ]
  },
  {
   "cell_type": "code",
   "execution_count": 86,
   "id": "15ab3851",
   "metadata": {},
   "outputs": [],
   "source": [
    "resp = requests.get(\n",
    "    responses,\n",
    "    headers=headers,\n",
    ")"
   ]
  },
  {
   "cell_type": "code",
   "execution_count": 88,
   "id": "e20dd040",
   "metadata": {},
   "outputs": [],
   "source": [
    "df = pd.read_csv(StringIO(resp.text))"
   ]
  },
  {
   "cell_type": "code",
   "execution_count": 89,
   "id": "99f41da5",
   "metadata": {},
   "outputs": [
    {
     "data": {
      "text/html": [
       "<div>\n",
       "<style scoped>\n",
       "    .dataframe tbody tr th:only-of-type {\n",
       "        vertical-align: middle;\n",
       "    }\n",
       "\n",
       "    .dataframe tbody tr th {\n",
       "        vertical-align: top;\n",
       "    }\n",
       "\n",
       "    .dataframe thead th {\n",
       "        text-align: right;\n",
       "    }\n",
       "</style>\n",
       "<table border=\"1\" class=\"dataframe\">\n",
       "  <thead>\n",
       "    <tr style=\"text-align: right;\">\n",
       "      <th></th>\n",
       "      <th>Submission id</th>\n",
       "      <th>Participant id</th>\n",
       "      <th>Status</th>\n",
       "      <th>Custom study tncs accepted at</th>\n",
       "      <th>Started at</th>\n",
       "      <th>Completed at</th>\n",
       "      <th>Reviewed at</th>\n",
       "      <th>Archived at</th>\n",
       "      <th>Time taken</th>\n",
       "      <th>Completion code</th>\n",
       "      <th>...</th>\n",
       "      <th>Age</th>\n",
       "      <th>Sex</th>\n",
       "      <th>Ethnicity simplified</th>\n",
       "      <th>Country of birth</th>\n",
       "      <th>Country of residence</th>\n",
       "      <th>Nationality</th>\n",
       "      <th>Language</th>\n",
       "      <th>Student status</th>\n",
       "      <th>Employment status</th>\n",
       "      <th>If the user sent the message: 'hope u dont go bald'. If the AI interpreted the intent as: 'The user is expressing concern or wishing that the person does not experience hair loss.' Do you think the AI got the intent right?</th>\n",
       "    </tr>\n",
       "  </thead>\n",
       "  <tbody>\n",
       "    <tr>\n",
       "      <th>0</th>\n",
       "      <td>686596802761d106f4b08c47</td>\n",
       "      <td>6713eb5e48cc2fd21195379f</td>\n",
       "      <td>APPROVED</td>\n",
       "      <td>Not Applicable</td>\n",
       "      <td>2025-07-02T20:28:50.961000Z</td>\n",
       "      <td>2025-07-02T20:29:10.935000Z</td>\n",
       "      <td>2025-07-02T20:30:54.193000Z</td>\n",
       "      <td>2025-07-02T20:29:11.376718Z</td>\n",
       "      <td>20</td>\n",
       "      <td>NOCODE</td>\n",
       "      <td>...</td>\n",
       "      <td>28</td>\n",
       "      <td>Female</td>\n",
       "      <td>White</td>\n",
       "      <td>United States</td>\n",
       "      <td>United States</td>\n",
       "      <td>United States</td>\n",
       "      <td>English</td>\n",
       "      <td>No</td>\n",
       "      <td>DATA_EXPIRED</td>\n",
       "      <td>Yes</td>\n",
       "    </tr>\n",
       "    <tr>\n",
       "      <th>1</th>\n",
       "      <td>686596e708451bee0f6d1780</td>\n",
       "      <td>62851efba924ed81f6f0e7f4</td>\n",
       "      <td>APPROVED</td>\n",
       "      <td>Not Applicable</td>\n",
       "      <td>2025-07-02T20:30:33.764000Z</td>\n",
       "      <td>2025-07-02T20:30:42.337000Z</td>\n",
       "      <td>2025-07-02T20:30:55.898000Z</td>\n",
       "      <td>2025-07-02T20:30:42.795459Z</td>\n",
       "      <td>9</td>\n",
       "      <td>NOCODE</td>\n",
       "      <td>...</td>\n",
       "      <td>26</td>\n",
       "      <td>Male</td>\n",
       "      <td>White</td>\n",
       "      <td>United States</td>\n",
       "      <td>United States</td>\n",
       "      <td>United States</td>\n",
       "      <td>English</td>\n",
       "      <td>No</td>\n",
       "      <td>Full-Time</td>\n",
       "      <td>Yes</td>\n",
       "    </tr>\n",
       "    <tr>\n",
       "      <th>2</th>\n",
       "      <td>686596fac9eb8d7f75368889</td>\n",
       "      <td>67ee795beb74f4d224497dac</td>\n",
       "      <td>APPROVED</td>\n",
       "      <td>Not Applicable</td>\n",
       "      <td>2025-07-02T20:30:59.030000Z</td>\n",
       "      <td>2025-07-02T20:31:33.581000Z</td>\n",
       "      <td>2025-07-02T20:37:46.199000Z</td>\n",
       "      <td>2025-07-02T20:31:34.057482Z</td>\n",
       "      <td>35</td>\n",
       "      <td>NOCODE</td>\n",
       "      <td>...</td>\n",
       "      <td>27</td>\n",
       "      <td>Female</td>\n",
       "      <td>Black</td>\n",
       "      <td>United States</td>\n",
       "      <td>United States</td>\n",
       "      <td>United States</td>\n",
       "      <td>English</td>\n",
       "      <td>DATA_EXPIRED</td>\n",
       "      <td>DATA_EXPIRED</td>\n",
       "      <td>No</td>\n",
       "    </tr>\n",
       "    <tr>\n",
       "      <th>3</th>\n",
       "      <td>68659701f8d6af19d4e3ae08</td>\n",
       "      <td>66a8943bc033e1485a6331a1</td>\n",
       "      <td>APPROVED</td>\n",
       "      <td>Not Applicable</td>\n",
       "      <td>2025-07-02T20:30:59.452000Z</td>\n",
       "      <td>2025-07-02T20:31:16.846000Z</td>\n",
       "      <td>2025-07-02T20:37:48.161000Z</td>\n",
       "      <td>2025-07-02T20:31:17.281863Z</td>\n",
       "      <td>18</td>\n",
       "      <td>NOCODE</td>\n",
       "      <td>...</td>\n",
       "      <td>25</td>\n",
       "      <td>Female</td>\n",
       "      <td>White</td>\n",
       "      <td>Russian Federation</td>\n",
       "      <td>United States</td>\n",
       "      <td>United States</td>\n",
       "      <td>Russian</td>\n",
       "      <td>DATA_EXPIRED</td>\n",
       "      <td>DATA_EXPIRED</td>\n",
       "      <td>Yes</td>\n",
       "    </tr>\n",
       "    <tr>\n",
       "      <th>4</th>\n",
       "      <td>6865971274316bb412d69b72</td>\n",
       "      <td>6113ffbf45e79bc2769db74c</td>\n",
       "      <td>APPROVED</td>\n",
       "      <td>Not Applicable</td>\n",
       "      <td>2025-07-02T20:31:17.065000Z</td>\n",
       "      <td>2025-07-02T20:31:34.538000Z</td>\n",
       "      <td>2025-07-02T20:37:51.690000Z</td>\n",
       "      <td>2025-07-02T20:31:35.006916Z</td>\n",
       "      <td>18</td>\n",
       "      <td>NOCODE</td>\n",
       "      <td>...</td>\n",
       "      <td>25</td>\n",
       "      <td>Female</td>\n",
       "      <td>Black</td>\n",
       "      <td>Nigeria</td>\n",
       "      <td>United States</td>\n",
       "      <td>United States</td>\n",
       "      <td>English</td>\n",
       "      <td>Yes</td>\n",
       "      <td>Full-Time</td>\n",
       "      <td>Yes</td>\n",
       "    </tr>\n",
       "    <tr>\n",
       "      <th>5</th>\n",
       "      <td>6865977b32cb60e55bbfe44a</td>\n",
       "      <td>655f9bb3070d42d4bc67e866</td>\n",
       "      <td>APPROVED</td>\n",
       "      <td>Not Applicable</td>\n",
       "      <td>2025-07-02T20:33:02.383000Z</td>\n",
       "      <td>2025-07-02T20:33:17.458000Z</td>\n",
       "      <td>2025-07-02T20:37:50.742000Z</td>\n",
       "      <td>2025-07-02T20:33:17.908606Z</td>\n",
       "      <td>16</td>\n",
       "      <td>NOCODE</td>\n",
       "      <td>...</td>\n",
       "      <td>26</td>\n",
       "      <td>Female</td>\n",
       "      <td>Black</td>\n",
       "      <td>United States</td>\n",
       "      <td>United States</td>\n",
       "      <td>United States</td>\n",
       "      <td>English</td>\n",
       "      <td>No</td>\n",
       "      <td>Full-Time</td>\n",
       "      <td>No</td>\n",
       "    </tr>\n",
       "    <tr>\n",
       "      <th>6</th>\n",
       "      <td>686597840343731b34c7f8ea</td>\n",
       "      <td>65a4333efc75f965e7fc0cb5</td>\n",
       "      <td>APPROVED</td>\n",
       "      <td>Not Applicable</td>\n",
       "      <td>2025-07-02T20:33:10.142000Z</td>\n",
       "      <td>2025-07-02T20:33:27.311000Z</td>\n",
       "      <td>2025-07-02T20:37:54.487000Z</td>\n",
       "      <td>2025-07-02T20:33:27.718608Z</td>\n",
       "      <td>18</td>\n",
       "      <td>NOCODE</td>\n",
       "      <td>...</td>\n",
       "      <td>19</td>\n",
       "      <td>Male</td>\n",
       "      <td>Asian</td>\n",
       "      <td>United States</td>\n",
       "      <td>United States</td>\n",
       "      <td>United States</td>\n",
       "      <td>English</td>\n",
       "      <td>Yes</td>\n",
       "      <td>Other</td>\n",
       "      <td>Yes</td>\n",
       "    </tr>\n",
       "    <tr>\n",
       "      <th>7</th>\n",
       "      <td>686597f4931f72878a39a29f</td>\n",
       "      <td>61647de75314468d5cb57f93</td>\n",
       "      <td>APPROVED</td>\n",
       "      <td>Not Applicable</td>\n",
       "      <td>2025-07-02T20:35:04.091000Z</td>\n",
       "      <td>2025-07-02T20:35:56.019000Z</td>\n",
       "      <td>2025-07-02T20:37:52.761000Z</td>\n",
       "      <td>2025-07-02T20:35:56.447923Z</td>\n",
       "      <td>52</td>\n",
       "      <td>NOCODE</td>\n",
       "      <td>...</td>\n",
       "      <td>26</td>\n",
       "      <td>Male</td>\n",
       "      <td>White</td>\n",
       "      <td>United States</td>\n",
       "      <td>United States</td>\n",
       "      <td>United States</td>\n",
       "      <td>English</td>\n",
       "      <td>No</td>\n",
       "      <td>Unemployed (and job seeking)</td>\n",
       "      <td>Yes</td>\n",
       "    </tr>\n",
       "    <tr>\n",
       "      <th>8</th>\n",
       "      <td>686597fa6821ab422aad640f</td>\n",
       "      <td>66465b2522d14ab162ff2dbd</td>\n",
       "      <td>APPROVED</td>\n",
       "      <td>Not Applicable</td>\n",
       "      <td>2025-07-02T20:35:08.944000Z</td>\n",
       "      <td>2025-07-02T20:35:27.903000Z</td>\n",
       "      <td>2025-07-02T20:37:53.612000Z</td>\n",
       "      <td>2025-07-02T20:35:28.318144Z</td>\n",
       "      <td>19</td>\n",
       "      <td>NOCODE</td>\n",
       "      <td>...</td>\n",
       "      <td>21</td>\n",
       "      <td>Female</td>\n",
       "      <td>White</td>\n",
       "      <td>United States</td>\n",
       "      <td>United States</td>\n",
       "      <td>United States</td>\n",
       "      <td>English</td>\n",
       "      <td>DATA_EXPIRED</td>\n",
       "      <td>Part-Time</td>\n",
       "      <td>No</td>\n",
       "    </tr>\n",
       "    <tr>\n",
       "      <th>9</th>\n",
       "      <td>68659b549bce3a7ab6b0913e</td>\n",
       "      <td>667d08e12ac1bcbdd829a936</td>\n",
       "      <td>APPROVED</td>\n",
       "      <td>Not Applicable</td>\n",
       "      <td>2025-07-02T20:49:26.661000Z</td>\n",
       "      <td>2025-07-02T20:49:37.590000Z</td>\n",
       "      <td>2025-07-02T20:51:11.322000Z</td>\n",
       "      <td>2025-07-02T20:49:38.141414Z</td>\n",
       "      <td>11</td>\n",
       "      <td>NOCODE</td>\n",
       "      <td>...</td>\n",
       "      <td>21</td>\n",
       "      <td>Female</td>\n",
       "      <td>Asian</td>\n",
       "      <td>United States</td>\n",
       "      <td>United States</td>\n",
       "      <td>United States</td>\n",
       "      <td>English</td>\n",
       "      <td>DATA_EXPIRED</td>\n",
       "      <td>DATA_EXPIRED</td>\n",
       "      <td>Yes</td>\n",
       "    </tr>\n",
       "  </tbody>\n",
       "</table>\n",
       "<p>10 rows × 21 columns</p>\n",
       "</div>"
      ],
      "text/plain": [
       "              Submission id            Participant id    Status  \\\n",
       "0  686596802761d106f4b08c47  6713eb5e48cc2fd21195379f  APPROVED   \n",
       "1  686596e708451bee0f6d1780  62851efba924ed81f6f0e7f4  APPROVED   \n",
       "2  686596fac9eb8d7f75368889  67ee795beb74f4d224497dac  APPROVED   \n",
       "3  68659701f8d6af19d4e3ae08  66a8943bc033e1485a6331a1  APPROVED   \n",
       "4  6865971274316bb412d69b72  6113ffbf45e79bc2769db74c  APPROVED   \n",
       "5  6865977b32cb60e55bbfe44a  655f9bb3070d42d4bc67e866  APPROVED   \n",
       "6  686597840343731b34c7f8ea  65a4333efc75f965e7fc0cb5  APPROVED   \n",
       "7  686597f4931f72878a39a29f  61647de75314468d5cb57f93  APPROVED   \n",
       "8  686597fa6821ab422aad640f  66465b2522d14ab162ff2dbd  APPROVED   \n",
       "9  68659b549bce3a7ab6b0913e  667d08e12ac1bcbdd829a936  APPROVED   \n",
       "\n",
       "  Custom study tncs accepted at                   Started at  \\\n",
       "0                Not Applicable  2025-07-02T20:28:50.961000Z   \n",
       "1                Not Applicable  2025-07-02T20:30:33.764000Z   \n",
       "2                Not Applicable  2025-07-02T20:30:59.030000Z   \n",
       "3                Not Applicable  2025-07-02T20:30:59.452000Z   \n",
       "4                Not Applicable  2025-07-02T20:31:17.065000Z   \n",
       "5                Not Applicable  2025-07-02T20:33:02.383000Z   \n",
       "6                Not Applicable  2025-07-02T20:33:10.142000Z   \n",
       "7                Not Applicable  2025-07-02T20:35:04.091000Z   \n",
       "8                Not Applicable  2025-07-02T20:35:08.944000Z   \n",
       "9                Not Applicable  2025-07-02T20:49:26.661000Z   \n",
       "\n",
       "                  Completed at                  Reviewed at  \\\n",
       "0  2025-07-02T20:29:10.935000Z  2025-07-02T20:30:54.193000Z   \n",
       "1  2025-07-02T20:30:42.337000Z  2025-07-02T20:30:55.898000Z   \n",
       "2  2025-07-02T20:31:33.581000Z  2025-07-02T20:37:46.199000Z   \n",
       "3  2025-07-02T20:31:16.846000Z  2025-07-02T20:37:48.161000Z   \n",
       "4  2025-07-02T20:31:34.538000Z  2025-07-02T20:37:51.690000Z   \n",
       "5  2025-07-02T20:33:17.458000Z  2025-07-02T20:37:50.742000Z   \n",
       "6  2025-07-02T20:33:27.311000Z  2025-07-02T20:37:54.487000Z   \n",
       "7  2025-07-02T20:35:56.019000Z  2025-07-02T20:37:52.761000Z   \n",
       "8  2025-07-02T20:35:27.903000Z  2025-07-02T20:37:53.612000Z   \n",
       "9  2025-07-02T20:49:37.590000Z  2025-07-02T20:51:11.322000Z   \n",
       "\n",
       "                   Archived at  Time taken Completion code  ...  Age     Sex  \\\n",
       "0  2025-07-02T20:29:11.376718Z          20          NOCODE  ...   28  Female   \n",
       "1  2025-07-02T20:30:42.795459Z           9          NOCODE  ...   26    Male   \n",
       "2  2025-07-02T20:31:34.057482Z          35          NOCODE  ...   27  Female   \n",
       "3  2025-07-02T20:31:17.281863Z          18          NOCODE  ...   25  Female   \n",
       "4  2025-07-02T20:31:35.006916Z          18          NOCODE  ...   25  Female   \n",
       "5  2025-07-02T20:33:17.908606Z          16          NOCODE  ...   26  Female   \n",
       "6  2025-07-02T20:33:27.718608Z          18          NOCODE  ...   19    Male   \n",
       "7  2025-07-02T20:35:56.447923Z          52          NOCODE  ...   26    Male   \n",
       "8  2025-07-02T20:35:28.318144Z          19          NOCODE  ...   21  Female   \n",
       "9  2025-07-02T20:49:38.141414Z          11          NOCODE  ...   21  Female   \n",
       "\n",
       "  Ethnicity simplified    Country of birth Country of residence  \\\n",
       "0                White       United States        United States   \n",
       "1                White       United States        United States   \n",
       "2                Black       United States        United States   \n",
       "3                White  Russian Federation        United States   \n",
       "4                Black             Nigeria        United States   \n",
       "5                Black       United States        United States   \n",
       "6                Asian       United States        United States   \n",
       "7                White       United States        United States   \n",
       "8                White       United States        United States   \n",
       "9                Asian       United States        United States   \n",
       "\n",
       "     Nationality Language Student status             Employment status  \\\n",
       "0  United States  English             No                  DATA_EXPIRED   \n",
       "1  United States  English             No                     Full-Time   \n",
       "2  United States  English   DATA_EXPIRED                  DATA_EXPIRED   \n",
       "3  United States  Russian   DATA_EXPIRED                  DATA_EXPIRED   \n",
       "4  United States  English            Yes                     Full-Time   \n",
       "5  United States  English             No                     Full-Time   \n",
       "6  United States  English            Yes                         Other   \n",
       "7  United States  English             No  Unemployed (and job seeking)   \n",
       "8  United States  English   DATA_EXPIRED                     Part-Time   \n",
       "9  United States  English   DATA_EXPIRED                  DATA_EXPIRED   \n",
       "\n",
       "  If the user sent the message: 'hope u dont go bald'. If the AI interpreted the intent as: 'The user is expressing concern or wishing that the person does not experience hair loss.' Do you think the AI got the intent right?  \n",
       "0                                                Yes                                                                                                                                                                              \n",
       "1                                                Yes                                                                                                                                                                              \n",
       "2                                                 No                                                                                                                                                                              \n",
       "3                                                Yes                                                                                                                                                                              \n",
       "4                                                Yes                                                                                                                                                                              \n",
       "5                                                 No                                                                                                                                                                              \n",
       "6                                                Yes                                                                                                                                                                              \n",
       "7                                                Yes                                                                                                                                                                              \n",
       "8                                                 No                                                                                                                                                                              \n",
       "9                                                Yes                                                                                                                                                                              \n",
       "\n",
       "[10 rows x 21 columns]"
      ]
     },
     "execution_count": 89,
     "metadata": {},
     "output_type": "execute_result"
    }
   ],
   "source": [
    "df"
   ]
  },
  {
   "cell_type": "code",
   "execution_count": 99,
   "id": "5cea46a5",
   "metadata": {},
   "outputs": [],
   "source": [
    "completed_times = pd.to_datetime(df[\"Completed at\"], errors=\"coerce\")\n",
    "latest_completion = completed_times.dropna().max()\n",
    "formatted_time = latest_completion.strftime(\"%d %b %Y, %I:%M %p UTC\")"
   ]
  },
  {
   "cell_type": "code",
   "execution_count": 100,
   "id": "598191a5",
   "metadata": {
    "scrolled": true
   },
   "outputs": [
    {
     "data": {
      "text/plain": [
       "'02 Jul 2025, 08:49 PM UTC'"
      ]
     },
     "execution_count": 100,
     "metadata": {},
     "output_type": "execute_result"
    }
   ],
   "source": [
    "formatted_time"
   ]
  },
  {
   "cell_type": "code",
   "execution_count": null,
   "id": "6d177766",
   "metadata": {},
   "outputs": [],
   "source": [
    "totalstudytime = formatted_time - completed_times"
   ]
  }
 ],
 "metadata": {
  "kernelspec": {
   "display_name": "Python 3 (ipykernel)",
   "language": "python",
   "name": "python3"
  },
  "language_info": {
   "codemirror_mode": {
    "name": "ipython",
    "version": 3
   },
   "file_extension": ".py",
   "mimetype": "text/x-python",
   "name": "python",
   "nbconvert_exporter": "python",
   "pygments_lexer": "ipython3",
   "version": "3.12.9"
  }
 },
 "nbformat": 4,
 "nbformat_minor": 5
}
