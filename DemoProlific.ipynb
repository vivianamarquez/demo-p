{
 "cells": [
  {
   "cell_type": "markdown",
   "id": "56951b9a",
   "metadata": {},
   "source": [
    "# AI Intent Evaluation with Prolific\n",
    "\n",
    "This project demonstrates how to create and run human evaluation studies on Prolific to assess AI model performance in intent recognition tasks. The system automatically generates surveys, recruits participants, and collects human judgments on whether an AI correctly interpreted user messages."
   ]
  },
  {
   "cell_type": "markdown",
   "id": "2f632c25",
   "metadata": {},
   "source": [
    "## 🎯 Project Overview\n",
    "\n",
    "The project consists of a Jupyter notebook (`DemoProlific.ipynb`) that:\n",
    "\n",
    "1. **Takes a user message** and sends it an LLM model for intent interpretation\n",
    "2. **Creates a survey** on Prolific asking human evaluators if the AI's interpretation was correct\n",
    "3. **Recruits participants** based on specified criteria (age, country, etc.)\n",
    "4. **Collects responses** and provides analysis tools\n",
    "5. **Exports results** for further analysis\n"
   ]
  },
  {
   "cell_type": "markdown",
   "id": "3b9e5ce6",
   "metadata": {},
   "source": [
    "## Workflow"
   ]
  },
  {
   "cell_type": "markdown",
   "id": "0f6ec674",
   "metadata": {},
   "source": [
    "### 1. Setup and Authentication\n",
    "- Import required libraries\n",
    "- Load API keys from environment variables\n",
    "- Authenticate and fetch your Prolific researcher ID"
   ]
  },
  {
   "cell_type": "code",
   "execution_count": 114,
   "id": "4609d1a7",
   "metadata": {},
   "outputs": [],
   "source": [
    "import json\n",
    "import os\n",
    "import uuid\n",
    "import urllib.parse\n",
    "from datetime import datetime\n",
    "from io import StringIO\n",
    "\n",
    "import pandas as pd\n",
    "import requests\n",
    "from dotenv import load_dotenv\n",
    "import matplotlib.pyplot as plt\n",
    "\n",
    "import openai\n",
    "from openai import OpenAI"
   ]
  },
  {
   "cell_type": "code",
   "execution_count": 115,
   "id": "1b862a5a",
   "metadata": {},
   "outputs": [],
   "source": [
    "# Load environment variables \n",
    "load_dotenv()\n",
    "\n",
    "client = OpenAI(api_key=os.getenv(\"OPENAI_API_KEY\"))\n",
    "prolific_token = os.getenv(\"PROLIFIC_API_TOKEN\")"
   ]
  },
  {
   "cell_type": "code",
   "execution_count": 116,
   "id": "8175c40e",
   "metadata": {},
   "outputs": [],
   "source": [
    "# Set up headers for authenticated requests to the Prolific API\n",
    "headers = {\n",
    "    \"Authorization\": f\"Token {prolific_token}\",\n",
    "    \"Content-Type\": \"application/json\",\n",
    "}"
   ]
  },
  {
   "cell_type": "code",
   "execution_count": 117,
   "id": "d8c4c9f9",
   "metadata": {},
   "outputs": [],
   "source": [
    "# Fetch your Prolific researcher ID\n",
    "res = requests.get(\"https://api.prolific.com/api/v1/users/me/\", headers=headers)\n",
    "researcher_id = res.json()[\"id\"]"
   ]
  },
  {
   "cell_type": "markdown",
   "id": "52de963b",
   "metadata": {},
   "source": [
    "### 2. Message Processing\n",
    "- Define a user message to test\n",
    "- Send it to an LLM for intent interpretation\n",
    "- Extract the AI's response"
   ]
  },
  {
   "cell_type": "code",
   "execution_count": 118,
   "id": "56ad01ee",
   "metadata": {},
   "outputs": [],
   "source": [
    "user_message = \"hope u dont go bald\""
   ]
  },
  {
   "cell_type": "code",
   "execution_count": 119,
   "id": "9c9a40cf",
   "metadata": {},
   "outputs": [],
   "source": [
    "response = client.chat.completions.create(\n",
    "    model=\"gpt-3.5-turbo\",\n",
    "    messages=[\n",
    "        {\"role\": \"system\", \"content\": \"Given a user message, respond what do you think is the intention behind the message in a short sentence.\"},\n",
    "        {\"role\": \"user\", \"content\": user_message}\n",
    "    ]\n",
    ")\n",
    "\n",
    "intent = response.choices[0].message.content.strip()"
   ]
  },
  {
   "cell_type": "code",
   "execution_count": 120,
   "id": "334743ce",
   "metadata": {},
   "outputs": [
    {
     "data": {
      "text/plain": [
       "'The intention behind the message seems to be expressing concern or humor about the recipient potentially losing their hair.'"
      ]
     },
     "execution_count": 120,
     "metadata": {},
     "output_type": "execute_result"
    }
   ],
   "source": [
    "intent"
   ]
  },
  {
   "cell_type": "markdown",
   "id": "2c203c41",
   "metadata": {},
   "source": [
    "### 3. Survey Creation\n",
    "- Generate unique identifiers for survey components\n",
    "- Build survey structure with the question: \"Did the AI get the intent right?\"\n",
    "- Create the survey on Prolific's platform"
   ]
  },
  {
   "cell_type": "code",
   "execution_count": 121,
   "id": "6f29c05b",
   "metadata": {},
   "outputs": [
    {
     "name": "stdout",
     "output_type": "stream",
     "text": [
      "If the user sent the message: \n",
      "'hope u dont go bald'. \n",
      "\n",
      "If the AI interpreted the intent as: \n",
      "'The intention behind the message seems to be expressing concern or humor about the recipient potentially losing their hair.' \n",
      "\n",
      "Do you think the AI got the intent right?\n"
     ]
    }
   ],
   "source": [
    "# Build survey question\n",
    "question_text = (\n",
    "    f\"If the user sent the message: \\n'{user_message}'. \\n\\n\"\n",
    "    f\"If the AI interpreted the intent as: \\n\"\n",
    "    f\"'{intent}' \\n\\n\"\n",
    "    \"Do you think the AI got the intent right?\"\n",
    ")\n",
    "print(question_text)"
   ]
  },
  {
   "cell_type": "code",
   "execution_count": 122,
   "id": "7b82bbe6",
   "metadata": {},
   "outputs": [],
   "source": [
    "# Generate UUIDs for question and answers\n",
    "section_id = str(uuid.uuid4())\n",
    "question_id = str(uuid.uuid4())\n",
    "answer_yes_id = str(uuid.uuid4())\n",
    "answer_no_id = str(uuid.uuid4())"
   ]
  },
  {
   "cell_type": "code",
   "execution_count": 123,
   "id": "e3e1b335",
   "metadata": {},
   "outputs": [],
   "source": [
    "# Build the payload\n",
    "survey_data = {\n",
    "    \"researcher_id\": researcher_id,\n",
    "    \"title\": \"Did the AI interpret the message correctly?\",\n",
    "    \"sections\": [\n",
    "        {\n",
    "            \"id\": section_id,\n",
    "            \"title\": \"Intent Evaluation\",\n",
    "            \"questions\": [\n",
    "                {\n",
    "                    \"id\": question_id,\n",
    "                    \"title\": question_text,\n",
    "                    \"type\": \"single\",\n",
    "                    \"answers\": [\n",
    "                        {\"id\": answer_yes_id, \"value\": \"Yes\"},\n",
    "                        {\"id\": answer_no_id, \"value\": \"No\"},\n",
    "                    ],\n",
    "                }\n",
    "            ],\n",
    "        }\n",
    "    ],\n",
    "    \"questions\": [  # Flat list of questions (same structure)\n",
    "        {\n",
    "            \"id\": question_id,\n",
    "            \"title\": question_text,\n",
    "            \"type\": \"single\",\n",
    "            \"answers\": [\n",
    "                {\"id\": answer_yes_id, \"value\": \"Yes\"},\n",
    "                {\"id\": answer_no_id, \"value\": \"No\"},\n",
    "            ],\n",
    "        }\n",
    "    ],\n",
    "}"
   ]
  },
  {
   "cell_type": "code",
   "execution_count": 124,
   "id": "f2483a14",
   "metadata": {},
   "outputs": [
    {
     "name": "stdout",
     "output_type": "stream",
     "text": [
      "201\n"
     ]
    }
   ],
   "source": [
    "response = requests.post(\n",
    "    \"https://api.prolific.com/api/v1/surveys/\",\n",
    "    headers=headers,  \n",
    "    data=json.dumps(survey_data)\n",
    ")\n",
    "\n",
    "print(response.status_code)"
   ]
  },
  {
   "cell_type": "code",
   "execution_count": 125,
   "id": "884cf80a",
   "metadata": {},
   "outputs": [],
   "source": [
    "survey_id = response.json()[\"_id\"]"
   ]
  },
  {
   "cell_type": "markdown",
   "id": "7870e0f7",
   "metadata": {},
   "source": [
    "### 4. Study Configuration\n",
    "- Set study parameters (configurable):\n",
    "  - Reward: $0.50 per participant\n",
    "  - Participants: 20 \n",
    "  - Estimated time: 2 minutes\n",
    "  - Age range: 18-28\n",
    "  - Countries: US\n",
    "- Generate completion codes and filters"
   ]
  },
  {
   "cell_type": "code",
   "execution_count": 144,
   "id": "95e4e6d1",
   "metadata": {},
   "outputs": [],
   "source": [
    "study_config = {\n",
    "    \"reward\": 1.50,\n",
    "    \"participants\": 10,\n",
    "    \"estimated_time\": 2,\n",
    "    \"max_time\": 5,\n",
    "    \"age_range\": \"18-28\",\n",
    "    \"countries\": [\"US\"]\n",
    "}"
   ]
  },
  {
   "cell_type": "markdown",
   "id": "8ea0a6cb",
   "metadata": {},
   "source": [
    "### 5. Study Publication\n",
    "- Create the study with all parameters\n",
    "- Publish it to make it available to participants\n",
    "- Monitor study status and participant recruitment"
   ]
  },
  {
   "cell_type": "code",
   "execution_count": 145,
   "id": "9a5310b8",
   "metadata": {},
   "outputs": [],
   "source": [
    "completion_code = f\"INTENT_{datetime.now().strftime('%Y%m%d_%H%M%S')}\"\n",
    "estimated_time = int(study_config.get('estimated_time', 2))\n",
    "max_time = int(study_config.get('max_time', 10))\n",
    "reward_dollars = float(study_config.get('reward', 0.50))\n",
    "reward_cents = int(reward_dollars * 100)\n",
    "participants = int(study_config.get('participants', 10))\n",
    "age_min, age_max = map(int, study_config.get('age_range', '18-25').split('-'))\n",
    "countries = study_config.get('countries', ['US'])\n",
    "\n",
    "prolific_country_choices = {'US': '1'}\n",
    "prolific_country_ids = [prolific_country_choices[c] for c in countries if c in prolific_country_choices]"
   ]
  },
  {
   "cell_type": "code",
   "execution_count": 146,
   "id": "1961edce",
   "metadata": {},
   "outputs": [],
   "source": [
    "filters = [\n",
    "    {\"filter_id\": \"age\", \"selected_range\": {\"lower\": age_min, \"upper\": age_max}}\n",
    "]\n",
    "\n",
    "if prolific_country_ids:\n",
    "    filters.append({\n",
    "        \"filter_id\": \"current-country-of-residence\",\n",
    "        \"selected_values\": prolific_country_ids\n",
    "    })"
   ]
  },
  {
   "cell_type": "code",
   "execution_count": 147,
   "id": "c582a75d",
   "metadata": {},
   "outputs": [],
   "source": [
    "# Build the study payload for Prolific API\n",
    "study_data = {\n",
    "    \"name\": f\"AI Intent Evaluation - {datetime.now().strftime('%Y-%m-%d %H:%M')}\",\n",
    "    \"internal_name\": f\"AI Intent Study {datetime.now().strftime('%Y%m%d_%H%M%S')}\",\n",
    "    \"description\": \"Evaluate whether an AI correctly identified the intent behind a user message\",\n",
    "    \"external_study_url\": f\"https://prolific.com/surveys/{survey_id}\",\n",
    "    \"completion_codes\": [\n",
    "        {\n",
    "            \"code\": completion_code,\n",
    "            \"code_type\": \"COMPLETED\",\n",
    "            \"actions\": [{\"action\": \"AUTOMATICALLY_APPROVE\"}],\n",
    "        }\n",
    "    ],\n",
    "    \"estimated_completion_time\": estimated_time,  # in minutes\n",
    "    \"maximum_allowed_time\": max_time,  # in minutes\n",
    "    \"reward\": reward_cents,  # in cents\n",
    "    \"total_available_places\": participants,\n",
    "    \"device_compatibility\": [\"desktop\"],\n",
    "    \"peripheral_requirements\": [],\n",
    "    \"filters\": filters,  # participant eligibility criteria\n",
    "    \"privacy_notice\": (\n",
    "        \"Your data will be used for research purposes only and will be kept confidential.\"\n",
    "    ),\n",
    "}"
   ]
  },
  {
   "cell_type": "code",
   "execution_count": 148,
   "id": "10267ff3",
   "metadata": {},
   "outputs": [
    {
     "data": {
      "text/plain": [
       "201"
      ]
     },
     "execution_count": 148,
     "metadata": {},
     "output_type": "execute_result"
    }
   ],
   "source": [
    "# Create draft study\n",
    "study_response = requests.post(\n",
    "    \"https://api.prolific.com/api/v1/studies/\",\n",
    "    headers=headers,\n",
    "    data=json.dumps(study_data)\n",
    ")\n",
    "\n",
    "study_response.status_code"
   ]
  },
  {
   "cell_type": "code",
   "execution_count": 149,
   "id": "9815a175",
   "metadata": {},
   "outputs": [],
   "source": [
    "study_id = study_response.json().get(\"id\")"
   ]
  },
  {
   "cell_type": "code",
   "execution_count": 150,
   "id": "6571f74c",
   "metadata": {},
   "outputs": [],
   "source": [
    "# Publish study\n",
    "publish_response = requests.post(\n",
    "        f\"https://api.prolific.com/api/v1/studies/{study_id}/transition/\",\n",
    "        headers=headers,\n",
    "        data=json.dumps({\"action\": \"PUBLISH\"})\n",
    "    )"
   ]
  },
  {
   "cell_type": "code",
   "execution_count": 151,
   "id": "2fdc6980",
   "metadata": {},
   "outputs": [
    {
     "data": {
      "text/plain": [
       "200"
      ]
     },
     "execution_count": 151,
     "metadata": {},
     "output_type": "execute_result"
    }
   ],
   "source": [
    "publish_response.status_code"
   ]
  },
  {
   "cell_type": "markdown",
   "id": "8323b17c",
   "metadata": {},
   "source": [
    "### 6. Data Collection and Analysis\n",
    "- Monitor participant submissions\n",
    "- Export results in CSV format\n",
    "- Load data into pandas DataFrame for analysis\n",
    "- Calculate completion times and response statistics"
   ]
  },
  {
   "cell_type": "code",
   "execution_count": 169,
   "id": "bbaf2af6",
   "metadata": {},
   "outputs": [],
   "source": [
    "study_response = requests.get(\n",
    "        f\"https://api.prolific.com/api/v1/studies/{study_id}/\",\n",
    "        headers=headers)"
   ]
  },
  {
   "cell_type": "code",
   "execution_count": 170,
   "id": "2bd31444",
   "metadata": {},
   "outputs": [
    {
     "name": "stdout",
     "output_type": "stream",
     "text": [
      "✅ Study Name: AI Intent Evaluation - 2025-07-02 19:57\n",
      "📊 Status: ACTIVE\n",
      "👥 Total Places: 10\n",
      "📩 Total Submissions: 9\n",
      "⏳ Created at: 03 Jul 2025, 02:58 AM UTC\n"
     ]
    }
   ],
   "source": [
    "study_info = study_response.json()\n",
    "status = study_info.get(\"status\")\n",
    "name = study_info.get(\"name\")\n",
    "created_at = study_info.get(\"created_at\")\n",
    "total_places = study_info.get(\"total_available_places\")\n",
    "total_places_taken = study_info.get(\"places_taken\")\n",
    "created_at = datetime.fromisoformat(study_info.get(\"published_at\").replace(\"Z\", \"+00:00\")).strftime(\"%d %b %Y, %I:%M %p UTC\")\n",
    "\n",
    "\n",
    "print(f\"✅ Study Name: {name}\")\n",
    "print(f\"📊 Status: {status}\")\n",
    "print(f\"👥 Total Places: {total_places}\")\n",
    "print(f\"📩 Total Submissions: {total_places_taken}\")\n",
    "print(f\"⏳ Created at: {created_at}\")"
   ]
  },
  {
   "cell_type": "code",
   "execution_count": 171,
   "id": "d9f5ce3e",
   "metadata": {
    "scrolled": true
   },
   "outputs": [],
   "source": [
    "responses = f'https://api.prolific.com/api/v1/studies/{study_id}/export/'\n",
    "\n",
    "resp = requests.get(\n",
    "    responses,\n",
    "    headers=headers,\n",
    ")\n",
    "\n",
    "df = pd.read_csv(StringIO(resp.text))"
   ]
  },
  {
   "cell_type": "code",
   "execution_count": 172,
   "id": "cd59270a",
   "metadata": {},
   "outputs": [
    {
     "data": {
      "text/html": [
       "<div>\n",
       "<style scoped>\n",
       "    .dataframe tbody tr th:only-of-type {\n",
       "        vertical-align: middle;\n",
       "    }\n",
       "\n",
       "    .dataframe tbody tr th {\n",
       "        vertical-align: top;\n",
       "    }\n",
       "\n",
       "    .dataframe thead th {\n",
       "        text-align: right;\n",
       "    }\n",
       "</style>\n",
       "<table border=\"1\" class=\"dataframe\">\n",
       "  <thead>\n",
       "    <tr style=\"text-align: right;\">\n",
       "      <th></th>\n",
       "      <th>Submission id</th>\n",
       "      <th>Participant id</th>\n",
       "      <th>Status</th>\n",
       "      <th>Custom study tncs accepted at</th>\n",
       "      <th>Started at</th>\n",
       "      <th>Completed at</th>\n",
       "      <th>Reviewed at</th>\n",
       "      <th>Archived at</th>\n",
       "      <th>Time taken</th>\n",
       "      <th>Completion code</th>\n",
       "      <th>...</th>\n",
       "      <th>Age</th>\n",
       "      <th>Sex</th>\n",
       "      <th>Ethnicity simplified</th>\n",
       "      <th>Country of birth</th>\n",
       "      <th>Country of residence</th>\n",
       "      <th>Nationality</th>\n",
       "      <th>Language</th>\n",
       "      <th>Student status</th>\n",
       "      <th>Employment status</th>\n",
       "      <th>If the user sent the message: \\n'hope u dont go bald'. \\n\\nIf the AI interpreted the intent as: \\n'The intention behind the message seems to be expressing concern or humor about the recipient potentially losing their hair.' \\n\\nDo you think the AI got the intent right?</th>\n",
       "    </tr>\n",
       "  </thead>\n",
       "  <tbody>\n",
       "    <tr>\n",
       "      <th>0</th>\n",
       "      <td>6865f1e161010c515eaae8ee</td>\n",
       "      <td>67e0443d0e183a063756825e</td>\n",
       "      <td>APPROVED</td>\n",
       "      <td>Not Applicable</td>\n",
       "      <td>2025-07-03T02:58:47.344000Z</td>\n",
       "      <td>2025-07-03T03:00:07.369000Z</td>\n",
       "      <td>2025-07-03T03:02:43.309000Z</td>\n",
       "      <td>2025-07-03T03:00:08.025590Z</td>\n",
       "      <td>81</td>\n",
       "      <td>NOCODE</td>\n",
       "      <td>...</td>\n",
       "      <td>23</td>\n",
       "      <td>Female</td>\n",
       "      <td>Black</td>\n",
       "      <td>United States</td>\n",
       "      <td>United States</td>\n",
       "      <td>United States</td>\n",
       "      <td>English</td>\n",
       "      <td>No</td>\n",
       "      <td>Part-Time</td>\n",
       "      <td>No</td>\n",
       "    </tr>\n",
       "    <tr>\n",
       "      <th>1</th>\n",
       "      <td>6865f1e4d027a961118ee5de</td>\n",
       "      <td>6348845d31edff3dff1b7799</td>\n",
       "      <td>APPROVED</td>\n",
       "      <td>Not Applicable</td>\n",
       "      <td>2025-07-03T02:58:46.564000Z</td>\n",
       "      <td>2025-07-03T02:59:05.627000Z</td>\n",
       "      <td>2025-07-03T03:02:41.726000Z</td>\n",
       "      <td>2025-07-03T02:59:06.024682Z</td>\n",
       "      <td>20</td>\n",
       "      <td>NOCODE</td>\n",
       "      <td>...</td>\n",
       "      <td>26</td>\n",
       "      <td>Male</td>\n",
       "      <td>Asian</td>\n",
       "      <td>United States</td>\n",
       "      <td>United States</td>\n",
       "      <td>United States</td>\n",
       "      <td>English</td>\n",
       "      <td>DATA_EXPIRED</td>\n",
       "      <td>Full-Time</td>\n",
       "      <td>Yes</td>\n",
       "    </tr>\n",
       "    <tr>\n",
       "      <th>2</th>\n",
       "      <td>6865f2543d404cf8890a89a8</td>\n",
       "      <td>67a8bfb2f846cd3ea9bcd898</td>\n",
       "      <td>APPROVED</td>\n",
       "      <td>Not Applicable</td>\n",
       "      <td>2025-07-03T03:00:38.777000Z</td>\n",
       "      <td>2025-07-03T03:01:03.350000Z</td>\n",
       "      <td>2025-07-03T03:02:48.418000Z</td>\n",
       "      <td>2025-07-03T03:01:03.779261Z</td>\n",
       "      <td>25</td>\n",
       "      <td>NOCODE</td>\n",
       "      <td>...</td>\n",
       "      <td>28</td>\n",
       "      <td>Female</td>\n",
       "      <td>Black</td>\n",
       "      <td>United States</td>\n",
       "      <td>United States</td>\n",
       "      <td>United States</td>\n",
       "      <td>English</td>\n",
       "      <td>No</td>\n",
       "      <td>Full-Time</td>\n",
       "      <td>Yes</td>\n",
       "    </tr>\n",
       "    <tr>\n",
       "      <th>3</th>\n",
       "      <td>6865f25446f330e3150b7eee</td>\n",
       "      <td>66ace12c42d9a67100360274</td>\n",
       "      <td>APPROVED</td>\n",
       "      <td>Not Applicable</td>\n",
       "      <td>2025-07-03T03:00:38.701000Z</td>\n",
       "      <td>2025-07-03T03:01:03.276000Z</td>\n",
       "      <td>2025-07-03T03:02:44.992000Z</td>\n",
       "      <td>2025-07-03T03:01:03.704699Z</td>\n",
       "      <td>25</td>\n",
       "      <td>NOCODE</td>\n",
       "      <td>...</td>\n",
       "      <td>22</td>\n",
       "      <td>Male</td>\n",
       "      <td>Asian</td>\n",
       "      <td>United States</td>\n",
       "      <td>United States</td>\n",
       "      <td>United States</td>\n",
       "      <td>English</td>\n",
       "      <td>No</td>\n",
       "      <td>DATA_EXPIRED</td>\n",
       "      <td>Yes</td>\n",
       "    </tr>\n",
       "    <tr>\n",
       "      <th>4</th>\n",
       "      <td>6865f254931d23abdf0ef4af</td>\n",
       "      <td>60ad344265fa9865ff45c0bf</td>\n",
       "      <td>APPROVED</td>\n",
       "      <td>Not Applicable</td>\n",
       "      <td>2025-07-03T03:00:38.241000Z</td>\n",
       "      <td>2025-07-03T03:01:20.818000Z</td>\n",
       "      <td>2025-07-03T03:02:46.396000Z</td>\n",
       "      <td>2025-07-03T03:01:21.453874Z</td>\n",
       "      <td>43</td>\n",
       "      <td>NOCODE</td>\n",
       "      <td>...</td>\n",
       "      <td>28</td>\n",
       "      <td>Male</td>\n",
       "      <td>Mixed</td>\n",
       "      <td>United States</td>\n",
       "      <td>United States</td>\n",
       "      <td>United States</td>\n",
       "      <td>English</td>\n",
       "      <td>DATA_EXPIRED</td>\n",
       "      <td>Part-Time</td>\n",
       "      <td>Yes</td>\n",
       "    </tr>\n",
       "    <tr>\n",
       "      <th>5</th>\n",
       "      <td>6865f25f9130d3f364d4633d</td>\n",
       "      <td>63e51e55974365f1e43df265</td>\n",
       "      <td>APPROVED</td>\n",
       "      <td>Not Applicable</td>\n",
       "      <td>2025-07-03T03:00:49.300000Z</td>\n",
       "      <td>2025-07-03T03:01:16.361000Z</td>\n",
       "      <td>2025-07-03T03:02:47.639000Z</td>\n",
       "      <td>2025-07-03T03:01:17.263545Z</td>\n",
       "      <td>28</td>\n",
       "      <td>NOCODE</td>\n",
       "      <td>...</td>\n",
       "      <td>21</td>\n",
       "      <td>Male</td>\n",
       "      <td>Asian</td>\n",
       "      <td>United States</td>\n",
       "      <td>United States</td>\n",
       "      <td>United States</td>\n",
       "      <td>English</td>\n",
       "      <td>DATA_EXPIRED</td>\n",
       "      <td>DATA_EXPIRED</td>\n",
       "      <td>Yes</td>\n",
       "    </tr>\n",
       "    <tr>\n",
       "      <th>6</th>\n",
       "      <td>6865f28496d55384d7212e3a</td>\n",
       "      <td>6753b22cfa25adc6f658bee0</td>\n",
       "      <td>APPROVED</td>\n",
       "      <td>Not Applicable</td>\n",
       "      <td>2025-07-03T03:01:27.163000Z</td>\n",
       "      <td>2025-07-03T03:02:10.971000Z</td>\n",
       "      <td>2025-07-03T03:02:52.166000Z</td>\n",
       "      <td>2025-07-03T03:02:11.375925Z</td>\n",
       "      <td>44</td>\n",
       "      <td>NOCODE</td>\n",
       "      <td>...</td>\n",
       "      <td>27</td>\n",
       "      <td>Male</td>\n",
       "      <td>White</td>\n",
       "      <td>United States</td>\n",
       "      <td>United States</td>\n",
       "      <td>United States</td>\n",
       "      <td>English</td>\n",
       "      <td>No</td>\n",
       "      <td>Full-Time</td>\n",
       "      <td>Yes</td>\n",
       "    </tr>\n",
       "    <tr>\n",
       "      <th>7</th>\n",
       "      <td>6865f29006cc7165609690ac</td>\n",
       "      <td>5cdfa6ed1d1060001880fa47</td>\n",
       "      <td>APPROVED</td>\n",
       "      <td>Not Applicable</td>\n",
       "      <td>2025-07-03T03:01:39.194000Z</td>\n",
       "      <td>2025-07-03T03:03:52.564000Z</td>\n",
       "      <td>2025-07-03T03:03:56.183000Z</td>\n",
       "      <td>2025-07-03T03:03:53.004206Z</td>\n",
       "      <td>134</td>\n",
       "      <td>NOCODE</td>\n",
       "      <td>...</td>\n",
       "      <td>27</td>\n",
       "      <td>Male</td>\n",
       "      <td>White</td>\n",
       "      <td>United States</td>\n",
       "      <td>United States</td>\n",
       "      <td>United States</td>\n",
       "      <td>English</td>\n",
       "      <td>DATA_EXPIRED</td>\n",
       "      <td>Other</td>\n",
       "      <td>Yes</td>\n",
       "    </tr>\n",
       "    <tr>\n",
       "      <th>8</th>\n",
       "      <td>6865f297e436856cae39b326</td>\n",
       "      <td>5f0144a4a28292298e381c49</td>\n",
       "      <td>APPROVED</td>\n",
       "      <td>Not Applicable</td>\n",
       "      <td>2025-07-03T03:01:46.040000Z</td>\n",
       "      <td>2025-07-03T03:02:01.020000Z</td>\n",
       "      <td>2025-07-03T03:02:49.540000Z</td>\n",
       "      <td>2025-07-03T03:02:01.442979Z</td>\n",
       "      <td>15</td>\n",
       "      <td>NOCODE</td>\n",
       "      <td>...</td>\n",
       "      <td>23</td>\n",
       "      <td>Female</td>\n",
       "      <td>Black</td>\n",
       "      <td>United States</td>\n",
       "      <td>United States</td>\n",
       "      <td>United States</td>\n",
       "      <td>English</td>\n",
       "      <td>Yes</td>\n",
       "      <td>Other</td>\n",
       "      <td>Yes</td>\n",
       "    </tr>\n",
       "  </tbody>\n",
       "</table>\n",
       "<p>9 rows × 21 columns</p>\n",
       "</div>"
      ],
      "text/plain": [
       "              Submission id            Participant id    Status  \\\n",
       "0  6865f1e161010c515eaae8ee  67e0443d0e183a063756825e  APPROVED   \n",
       "1  6865f1e4d027a961118ee5de  6348845d31edff3dff1b7799  APPROVED   \n",
       "2  6865f2543d404cf8890a89a8  67a8bfb2f846cd3ea9bcd898  APPROVED   \n",
       "3  6865f25446f330e3150b7eee  66ace12c42d9a67100360274  APPROVED   \n",
       "4  6865f254931d23abdf0ef4af  60ad344265fa9865ff45c0bf  APPROVED   \n",
       "5  6865f25f9130d3f364d4633d  63e51e55974365f1e43df265  APPROVED   \n",
       "6  6865f28496d55384d7212e3a  6753b22cfa25adc6f658bee0  APPROVED   \n",
       "7  6865f29006cc7165609690ac  5cdfa6ed1d1060001880fa47  APPROVED   \n",
       "8  6865f297e436856cae39b326  5f0144a4a28292298e381c49  APPROVED   \n",
       "\n",
       "  Custom study tncs accepted at                   Started at  \\\n",
       "0                Not Applicable  2025-07-03T02:58:47.344000Z   \n",
       "1                Not Applicable  2025-07-03T02:58:46.564000Z   \n",
       "2                Not Applicable  2025-07-03T03:00:38.777000Z   \n",
       "3                Not Applicable  2025-07-03T03:00:38.701000Z   \n",
       "4                Not Applicable  2025-07-03T03:00:38.241000Z   \n",
       "5                Not Applicable  2025-07-03T03:00:49.300000Z   \n",
       "6                Not Applicable  2025-07-03T03:01:27.163000Z   \n",
       "7                Not Applicable  2025-07-03T03:01:39.194000Z   \n",
       "8                Not Applicable  2025-07-03T03:01:46.040000Z   \n",
       "\n",
       "                  Completed at                  Reviewed at  \\\n",
       "0  2025-07-03T03:00:07.369000Z  2025-07-03T03:02:43.309000Z   \n",
       "1  2025-07-03T02:59:05.627000Z  2025-07-03T03:02:41.726000Z   \n",
       "2  2025-07-03T03:01:03.350000Z  2025-07-03T03:02:48.418000Z   \n",
       "3  2025-07-03T03:01:03.276000Z  2025-07-03T03:02:44.992000Z   \n",
       "4  2025-07-03T03:01:20.818000Z  2025-07-03T03:02:46.396000Z   \n",
       "5  2025-07-03T03:01:16.361000Z  2025-07-03T03:02:47.639000Z   \n",
       "6  2025-07-03T03:02:10.971000Z  2025-07-03T03:02:52.166000Z   \n",
       "7  2025-07-03T03:03:52.564000Z  2025-07-03T03:03:56.183000Z   \n",
       "8  2025-07-03T03:02:01.020000Z  2025-07-03T03:02:49.540000Z   \n",
       "\n",
       "                   Archived at  Time taken Completion code  ...  Age     Sex  \\\n",
       "0  2025-07-03T03:00:08.025590Z          81          NOCODE  ...   23  Female   \n",
       "1  2025-07-03T02:59:06.024682Z          20          NOCODE  ...   26    Male   \n",
       "2  2025-07-03T03:01:03.779261Z          25          NOCODE  ...   28  Female   \n",
       "3  2025-07-03T03:01:03.704699Z          25          NOCODE  ...   22    Male   \n",
       "4  2025-07-03T03:01:21.453874Z          43          NOCODE  ...   28    Male   \n",
       "5  2025-07-03T03:01:17.263545Z          28          NOCODE  ...   21    Male   \n",
       "6  2025-07-03T03:02:11.375925Z          44          NOCODE  ...   27    Male   \n",
       "7  2025-07-03T03:03:53.004206Z         134          NOCODE  ...   27    Male   \n",
       "8  2025-07-03T03:02:01.442979Z          15          NOCODE  ...   23  Female   \n",
       "\n",
       "  Ethnicity simplified Country of birth Country of residence    Nationality  \\\n",
       "0                Black    United States        United States  United States   \n",
       "1                Asian    United States        United States  United States   \n",
       "2                Black    United States        United States  United States   \n",
       "3                Asian    United States        United States  United States   \n",
       "4                Mixed    United States        United States  United States   \n",
       "5                Asian    United States        United States  United States   \n",
       "6                White    United States        United States  United States   \n",
       "7                White    United States        United States  United States   \n",
       "8                Black    United States        United States  United States   \n",
       "\n",
       "  Language Student status Employment status  \\\n",
       "0  English             No         Part-Time   \n",
       "1  English   DATA_EXPIRED         Full-Time   \n",
       "2  English             No         Full-Time   \n",
       "3  English             No      DATA_EXPIRED   \n",
       "4  English   DATA_EXPIRED         Part-Time   \n",
       "5  English   DATA_EXPIRED      DATA_EXPIRED   \n",
       "6  English             No         Full-Time   \n",
       "7  English   DATA_EXPIRED             Other   \n",
       "8  English            Yes             Other   \n",
       "\n",
       "  If the user sent the message: \\n'hope u dont go bald'. \\n\\nIf the AI interpreted the intent as: \\n'The intention behind the message seems to be expressing concern or humor about the recipient potentially losing their hair.' \\n\\nDo you think the AI got the intent right?  \n",
       "0                                                 No                                                                                                                                                                                                                             \n",
       "1                                                Yes                                                                                                                                                                                                                             \n",
       "2                                                Yes                                                                                                                                                                                                                             \n",
       "3                                                Yes                                                                                                                                                                                                                             \n",
       "4                                                Yes                                                                                                                                                                                                                             \n",
       "5                                                Yes                                                                                                                                                                                                                             \n",
       "6                                                Yes                                                                                                                                                                                                                             \n",
       "7                                                Yes                                                                                                                                                                                                                             \n",
       "8                                                Yes                                                                                                                                                                                                                             \n",
       "\n",
       "[9 rows x 21 columns]"
      ]
     },
     "execution_count": 172,
     "metadata": {},
     "output_type": "execute_result"
    }
   ],
   "source": [
    "df\n"
   ]
  },
  {
   "cell_type": "code",
   "execution_count": 173,
   "id": "5cea46a5",
   "metadata": {},
   "outputs": [
    {
     "data": {
      "text/plain": [
       "'03 Jul 2025, 03:03 AM UTC'"
      ]
     },
     "execution_count": 173,
     "metadata": {},
     "output_type": "execute_result"
    }
   ],
   "source": [
    "# Format the latest completion time as a readable string\n",
    "completed_times = pd.to_datetime(df[\"Completed at\"], errors=\"coerce\")\n",
    "latest_completion = completed_times.dropna().max()\n",
    "formatted_time = latest_completion.strftime(\"%d %b %Y, %I:%M %p UTC\")\n",
    "\n",
    "formatted_time"
   ]
  },
  {
   "cell_type": "code",
   "execution_count": 174,
   "id": "6d177766",
   "metadata": {},
   "outputs": [
    {
     "name": "stdout",
     "output_type": "stream",
     "text": [
      "Study Completion Time: 5.00 minutes\n"
     ]
    }
   ],
   "source": [
    "time_format = \"%d %b %Y, %I:%M %p UTC\"\n",
    "\n",
    "created_dt = datetime.strptime(created_at, time_format)\n",
    "formatted_dt = datetime.strptime(formatted_time, time_format)\n",
    "\n",
    "duration = formatted_dt - created_dt\n",
    "\n",
    "duration_minutes = duration.total_seconds() / 60\n",
    "\n",
    "print(f\"Study Completion Time: {duration_minutes:.2f} minutes\")\n"
   ]
  },
  {
   "cell_type": "code",
   "execution_count": 175,
   "id": "31c68277",
   "metadata": {},
   "outputs": [
    {
     "name": "stdout",
     "output_type": "stream",
     "text": [
      "If the user sent the message: \\n'hope u dont go bald'. \\n\\nIf the AI interpreted the intent as: \\n'The intention behind the message seems to be expressing concern or humor about the recipient potentially losing their hair.' \\n\\nDo you think the AI got the intent right?\n",
      "Yes    8\n",
      "No     1\n",
      "Name: count, dtype: int64\n"
     ]
    },
    {
     "data": {
      "image/png": "[encoded data removed]",
      "text/plain": [
       "<Figure size 640x480 with 1 Axes>"
      ]
     },
     "metadata": {},
     "output_type": "display_data"
    }
   ],
   "source": [
    "df[df.columns[-1]].value_counts().plot(kind=\"bar\")\n",
    "print(df[df.columns[-1]].value_counts())\n",
    "\n",
    "plt.title(\"Did the AI get the intent right?\")\n",
    "plt.xlabel(\"Answer\")\n",
    "plt.ylabel(\"Count\")\n",
    "plt.xticks(rotation=0)\n",
    "plt.grid(axis=\"y\", linestyle=\"--\", alpha=0.7)\n",
    "plt.show()"
   ]
  },
  {
   "cell_type": "code",
   "execution_count": null,
   "id": "6c11685b",
   "metadata": {},
   "outputs": [],
   "source": []
  }
 ],
 "metadata": {
  "kernelspec": {
   "display_name": "classic",
   "language": "python",
   "name": "python3"
  },
  "language_info": {
   "codemirror_mode": {
    "name": "ipython",
    "version": 3
   },
   "file_extension": ".py",
   "mimetype": "text/x-python",
   "name": "python",
   "nbconvert_exporter": "python",
   "pygments_lexer": "ipython3",
   "version": "3.12.9"
  }
 },
 "nbformat": 4,
 "nbformat_minor": 5
}
