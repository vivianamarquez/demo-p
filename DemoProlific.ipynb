{
 "cells": [
  {
   "cell_type": "markdown",
   "id": "56951b9a",
   "metadata": {},
   "source": [
    "# AI Intent Evaluation with Prolific\n",
    "\n",
    "This project demonstrates how to create and run human evaluation studies on Prolific to assess AI model performance in intent recognition tasks. The system automatically generates surveys, recruits participants, and collects human judgments on whether an AI correctly interpreted user messages."
   ]
  },
  {
   "cell_type": "markdown",
   "id": "2f632c25",
   "metadata": {},
   "source": [
    "## 🎯 Project Overview\n",
    "\n",
    "The project consists of a Jupyter notebook (`DemoProlific.ipynb`) that:\n",
    "\n",
    "1. **Takes a user message** and sends it an LLM model for intent interpretation\n",
    "2. **Creates a survey** on Prolific asking human evaluators if the AI's interpretation was correct\n",
    "3. **Recruits participants** based on specified criteria (age, country, etc.)\n",
    "4. **Collects responses** and provides analysis tools\n",
    "5. **Exports results** for further analysis\n"
   ]
  },
  {
   "cell_type": "markdown",
   "id": "3b9e5ce6",
   "metadata": {},
   "source": [
    "## Workflow"
   ]
  },
  {
   "cell_type": "markdown",
   "id": "0f6ec674",
   "metadata": {},
   "source": [
    "### 1. Setup and Authentication\n",
    "- Import required libraries\n",
    "- Load API keys from environment variables\n",
    "- Authenticate and fetch your Prolific researcher ID"
   ]
  },
  {
   "cell_type": "code",
   "execution_count": 72,
   "id": "4609d1a7",
   "metadata": {},
   "outputs": [],
   "source": [
    "import json\n",
    "import os\n",
    "import uuid\n",
    "import urllib.parse\n",
    "from datetime import datetime\n",
    "from io import StringIO\n",
    "\n",
    "import pandas as pd\n",
    "import requests\n",
    "from dotenv import load_dotenv\n",
    "import matplotlib.pyplot as plt\n",
    "\n",
    "import openai\n",
    "from openai import OpenAI"
   ]
  },
  {
   "cell_type": "code",
   "execution_count": 73,
   "id": "1b862a5a",
   "metadata": {},
   "outputs": [],
   "source": [
    "# Load environment variables \n",
    "load_dotenv()\n",
    "\n",
    "client = OpenAI(api_key=os.getenv(\"OPENAI_API_KEY\"))\n",
    "prolific_token = os.getenv(\"PROLIFIC_API_TOKEN\")"
   ]
  },
  {
   "cell_type": "code",
   "execution_count": 74,
   "id": "8175c40e",
   "metadata": {},
   "outputs": [],
   "source": [
    "# Set up headers for authenticated requests to the Prolific API\n",
    "headers = {\n",
    "    \"Authorization\": f\"Token {prolific_token}\",\n",
    "    \"Content-Type\": \"application/json\",\n",
    "}"
   ]
  },
  {
   "cell_type": "code",
   "execution_count": 75,
   "id": "d8c4c9f9",
   "metadata": {},
   "outputs": [],
   "source": [
    "# Fetch your Prolific researcher ID\n",
    "res = requests.get(\"https://api.prolific.com/api/v1/users/me/\", headers=headers)\n",
    "researcher_id = res.json()[\"id\"]"
   ]
  },
  {
   "cell_type": "markdown",
   "id": "52de963b",
   "metadata": {},
   "source": [
    "### 2. Message Processing\n",
    "- Define a user message to test\n",
    "- Send it to an LLM for intent interpretation\n",
    "- Extract the AI's response"
   ]
  },
  {
   "cell_type": "code",
   "execution_count": 76,
   "id": "56ad01ee",
   "metadata": {},
   "outputs": [],
   "source": [
    "user_message = \"hope u dont go bald\""
   ]
  },
  {
   "cell_type": "code",
   "execution_count": 77,
   "id": "9c9a40cf",
   "metadata": {},
   "outputs": [],
   "source": [
    "response = client.chat.completions.create(\n",
    "    model=\"gpt-3.5-turbo\",\n",
    "    messages=[\n",
    "        {\"role\": \"system\", \"content\": \"Given a user message, respond what do you think is the intention behind the message in a short sentence.\"},\n",
    "        {\"role\": \"user\", \"content\": user_message}\n",
    "    ]\n",
    ")\n",
    "\n",
    "intent = response.choices[0].message.content.strip()"
   ]
  },
  {
   "cell_type": "code",
   "execution_count": 78,
   "id": "334743ce",
   "metadata": {},
   "outputs": [
    {
     "data": {
      "text/plain": [
       "'This message seems to be expressing concern about the recipient potentially losing their hair.'"
      ]
     },
     "execution_count": 78,
     "metadata": {},
     "output_type": "execute_result"
    }
   ],
   "source": [
    "intent"
   ]
  },
  {
   "cell_type": "markdown",
   "id": "2c203c41",
   "metadata": {},
   "source": [
    "### 3. Survey Creation\n",
    "- Generate unique identifiers for survey components\n",
    "- Build survey structure with the question: \"Did the AI get the intent right?\"\n",
    "- Create the survey on Prolific's platform"
   ]
  },
  {
   "cell_type": "code",
   "execution_count": 79,
   "id": "6f29c05b",
   "metadata": {},
   "outputs": [
    {
     "name": "stdout",
     "output_type": "stream",
     "text": [
      "If the user sent the message: \n",
      "'hope u dont go bald'. \n",
      "\n",
      "If the AI interpreted the intent as: \n",
      "'This message seems to be expressing concern about the recipient potentially losing their hair.' \n",
      "\n",
      "Do you think the AI got the intent right?\n"
     ]
    }
   ],
   "source": [
    "# Build survey question\n",
    "question_text = (\n",
    "    f\"If the user sent the message: \\n'{user_message}'. \\n\\n\"\n",
    "    f\"If the AI interpreted the intent as: \\n\"\n",
    "    f\"'{intent}' \\n\\n\"\n",
    "    \"Do you think the AI got the intent right?\"\n",
    ")\n",
    "print(question_text)"
   ]
  },
  {
   "cell_type": "code",
   "execution_count": 80,
   "id": "7b82bbe6",
   "metadata": {},
   "outputs": [],
   "source": [
    "# Generate UUIDs for question and answers\n",
    "section_id = str(uuid.uuid4())\n",
    "question_id = str(uuid.uuid4())\n",
    "answer_yes_id = str(uuid.uuid4())\n",
    "answer_no_id = str(uuid.uuid4())"
   ]
  },
  {
   "cell_type": "code",
   "execution_count": 81,
   "id": "e3e1b335",
   "metadata": {},
   "outputs": [],
   "source": [
    "# Build the payload\n",
    "survey_data = {\n",
    "    \"researcher_id\": researcher_id,\n",
    "    \"title\": \"Did the AI interpret the message correctly?\",\n",
    "    \"sections\": [\n",
    "        {\n",
    "            \"id\": section_id,\n",
    "            \"title\": \"Intent Evaluation\",\n",
    "            \"questions\": [\n",
    "                {\n",
    "                    \"id\": question_id,\n",
    "                    \"title\": question_text,\n",
    "                    \"type\": \"single\",\n",
    "                    \"answers\": [\n",
    "                        {\"id\": answer_yes_id, \"value\": \"Yes\"},\n",
    "                        {\"id\": answer_no_id, \"value\": \"No\"},\n",
    "                    ],\n",
    "                }\n",
    "            ],\n",
    "        }\n",
    "    ],\n",
    "    \"questions\": [  # Flat list of questions (same structure)\n",
    "        {\n",
    "            \"id\": question_id,\n",
    "            \"title\": question_text,\n",
    "            \"type\": \"single\",\n",
    "            \"answers\": [\n",
    "                {\"id\": answer_yes_id, \"value\": \"Yes\"},\n",
    "                {\"id\": answer_no_id, \"value\": \"No\"},\n",
    "            ],\n",
    "        }\n",
    "    ],\n",
    "}"
   ]
  },
  {
   "cell_type": "code",
   "execution_count": 82,
   "id": "f2483a14",
   "metadata": {},
   "outputs": [
    {
     "name": "stdout",
     "output_type": "stream",
     "text": [
      "201\n"
     ]
    }
   ],
   "source": [
    "response = requests.post(\n",
    "    \"https://api.prolific.com/api/v1/surveys/\",\n",
    "    headers=headers,  \n",
    "    data=json.dumps(survey_data)\n",
    ")\n",
    "\n",
    "print(response.status_code)"
   ]
  },
  {
   "cell_type": "code",
   "execution_count": 83,
   "id": "884cf80a",
   "metadata": {},
   "outputs": [],
   "source": [
    "survey_id = response.json()[\"_id\"]"
   ]
  },
  {
   "cell_type": "markdown",
   "id": "7870e0f7",
   "metadata": {},
   "source": [
    "### 4. Study Configuration\n",
    "- Set study parameters (configurable):\n",
    "  - Reward: $0.50 per participant\n",
    "  - Participants: 20 \n",
    "  - Estimated time: 2 minutes\n",
    "  - Age range: 18-28\n",
    "  - Countries: US\n",
    "- Generate completion codes and filters"
   ]
  },
  {
   "cell_type": "code",
   "execution_count": 84,
   "id": "95e4e6d1",
   "metadata": {},
   "outputs": [],
   "source": [
    "study_config = {\n",
    "    \"reward\": 0.25,\n",
    "    \"participants\": 10,\n",
    "    \"estimated_time\": 1,\n",
    "    \"max_time\": 5,\n",
    "    \"age_range\": \"18-28\",\n",
    "    \"countries\": [\"US\"]\n",
    "}"
   ]
  },
  {
   "cell_type": "markdown",
   "id": "8ea0a6cb",
   "metadata": {},
   "source": [
    "### 5. Study Publication\n",
    "- Create the study with all parameters\n",
    "- Publish it to make it available to participants\n",
    "- Monitor study status and participant recruitment"
   ]
  },
  {
   "cell_type": "code",
   "execution_count": 85,
   "id": "9a5310b8",
   "metadata": {},
   "outputs": [],
   "source": [
    "completion_code = f\"INTENT_{datetime.now().strftime('%Y%m%d_%H%M%S')}\"\n",
    "estimated_time = int(study_config.get('estimated_time', 2))\n",
    "max_time = int(study_config.get('max_time', 10))\n",
    "reward_dollars = float(study_config.get('reward', 0.50))\n",
    "reward_cents = int(reward_dollars * 100)\n",
    "participants = int(study_config.get('participants', 10))\n",
    "age_min, age_max = map(int, study_config.get('age_range', '18-25').split('-'))\n",
    "countries = study_config.get('countries', ['US'])\n",
    "\n",
    "prolific_country_choices = {'US': '1'}\n",
    "prolific_country_ids = [prolific_country_choices[c] for c in countries if c in prolific_country_choices]"
   ]
  },
  {
   "cell_type": "code",
   "execution_count": 86,
   "id": "1961edce",
   "metadata": {},
   "outputs": [],
   "source": [
    "filters = [\n",
    "    {\"filter_id\": \"age\", \"selected_range\": {\"lower\": age_min, \"upper\": age_max}}\n",
    "]\n",
    "\n",
    "if prolific_country_ids:\n",
    "    filters.append({\n",
    "        \"filter_id\": \"current-country-of-residence\",\n",
    "        \"selected_values\": prolific_country_ids\n",
    "    })"
   ]
  },
  {
   "cell_type": "code",
   "execution_count": 87,
   "id": "c582a75d",
   "metadata": {},
   "outputs": [],
   "source": [
    "# Build the study payload for Prolific API\n",
    "study_data = {\n",
    "    \"name\": f\"AI Intent Evaluation - {datetime.now().strftime('%Y-%m-%d %H:%M')}\",\n",
    "    \"internal_name\": f\"AI Intent Study {datetime.now().strftime('%Y%m%d_%H%M%S')}\",\n",
    "    \"description\": \"Evaluate whether an AI correctly identified the intent behind a user message\",\n",
    "    \"external_study_url\": f\"https://prolific.com/surveys/{survey_id}\",\n",
    "    \"completion_codes\": [\n",
    "        {\n",
    "            \"code\": completion_code,\n",
    "            \"code_type\": \"COMPLETED\",\n",
    "            \"actions\": [{\"action\": \"AUTOMATICALLY_APPROVE\"}],\n",
    "        }\n",
    "    ],\n",
    "    \"estimated_completion_time\": estimated_time,  # in minutes\n",
    "    \"maximum_allowed_time\": max_time,  # in minutes\n",
    "    \"reward\": reward_cents,  # in cents\n",
    "    \"total_available_places\": participants,\n",
    "    \"device_compatibility\": [\"desktop\"],\n",
    "    \"peripheral_requirements\": [],\n",
    "    \"filters\": filters,  # participant eligibility criteria\n",
    "    \"privacy_notice\": (\n",
    "        \"Your data will be used for research purposes only and will be kept confidential.\"\n",
    "    ),\n",
    "}"
   ]
  },
  {
   "cell_type": "code",
   "execution_count": 88,
   "id": "10267ff3",
   "metadata": {},
   "outputs": [
    {
     "data": {
      "text/plain": [
       "201"
      ]
     },
     "execution_count": 88,
     "metadata": {},
     "output_type": "execute_result"
    }
   ],
   "source": [
    "# Create draft study\n",
    "study_response = requests.post(\n",
    "    \"https://api.prolific.com/api/v1/studies/\",\n",
    "    headers=headers,\n",
    "    data=json.dumps(study_data)\n",
    ")\n",
    "\n",
    "study_response.status_code"
   ]
  },
  {
   "cell_type": "code",
   "execution_count": 89,
   "id": "9815a175",
   "metadata": {},
   "outputs": [],
   "source": [
    "study_id = study_response.json().get(\"id\")"
   ]
  },
  {
   "cell_type": "code",
   "execution_count": 90,
   "id": "6571f74c",
   "metadata": {},
   "outputs": [],
   "source": [
    "# Publish study\n",
    "publish_response = requests.post(\n",
    "        f\"https://api.prolific.com/api/v1/studies/{study_id}/transition/\",\n",
    "        headers=headers,\n",
    "        data=json.dumps({\"action\": \"PUBLISH\"})\n",
    "    )"
   ]
  },
  {
   "cell_type": "code",
   "execution_count": 91,
   "id": "2fdc6980",
   "metadata": {},
   "outputs": [
    {
     "data": {
      "text/plain": [
       "200"
      ]
     },
     "execution_count": 91,
     "metadata": {},
     "output_type": "execute_result"
    }
   ],
   "source": [
    "publish_response.status_code"
   ]
  },
  {
   "cell_type": "markdown",
   "id": "8323b17c",
   "metadata": {},
   "source": [
    "### 6. Data Collection and Analysis\n",
    "- Monitor participant submissions\n",
    "- Export results in CSV format\n",
    "- Load data into pandas DataFrame for analysis\n",
    "- Calculate completion times and response statistics"
   ]
  },
  {
   "cell_type": "code",
   "execution_count": 105,
   "id": "bbaf2af6",
   "metadata": {},
   "outputs": [],
   "source": [
    "study_response = requests.get(\n",
    "        f\"https://api.prolific.com/api/v1/studies/{study_id}/\",\n",
    "        headers=headers)"
   ]
  },
  {
   "cell_type": "code",
   "execution_count": 106,
   "id": "2bd31444",
   "metadata": {},
   "outputs": [
    {
     "name": "stdout",
     "output_type": "stream",
     "text": [
      "✅ Study Name: AI Intent Evaluation - 2025-07-02 19:16\n",
      "📊 Status: AWAITING REVIEW\n",
      "👥 Total Places: 10\n",
      "📩 Total Submissions: 5\n",
      "⏳ Created at: 03 Jul 2025, 02:16 AM UTC\n"
     ]
    }
   ],
   "source": [
    "study_info = study_response.json()\n",
    "status = study_info.get(\"status\")\n",
    "name = study_info.get(\"name\")\n",
    "created_at = study_info.get(\"created_at\")\n",
    "total_places = study_info.get(\"total_available_places\")\n",
    "total_places_taken = study_info.get(\"places_taken\")\n",
    "created_at = datetime.fromisoformat(study_info.get(\"published_at\").replace(\"Z\", \"+00:00\")).strftime(\"%d %b %Y, %I:%M %p UTC\")\n",
    "\n",
    "\n",
    "print(f\"✅ Study Name: {name}\")\n",
    "print(f\"📊 Status: {status}\")\n",
    "print(f\"👥 Total Places: {total_places}\")\n",
    "print(f\"📩 Total Submissions: {total_places_taken}\")\n",
    "print(f\"⏳ Created at: {created_at}\")"
   ]
  },
  {
   "cell_type": "code",
   "execution_count": 107,
   "id": "d9f5ce3e",
   "metadata": {
    "scrolled": true
   },
   "outputs": [],
   "source": [
    "responses = f'https://api.prolific.com/api/v1/studies/{study_id}/export/'\n",
    "\n",
    "resp = requests.get(\n",
    "    responses,\n",
    "    headers=headers,\n",
    ")\n",
    "\n",
    "df = pd.read_csv(StringIO(resp.text))"
   ]
  },
  {
   "cell_type": "code",
   "execution_count": 108,
   "id": "cd59270a",
   "metadata": {},
   "outputs": [
    {
     "data": {
      "text/html": [
       "<div>\n",
       "<style scoped>\n",
       "    .dataframe tbody tr th:only-of-type {\n",
       "        vertical-align: middle;\n",
       "    }\n",
       "\n",
       "    .dataframe tbody tr th {\n",
       "        vertical-align: top;\n",
       "    }\n",
       "\n",
       "    .dataframe thead th {\n",
       "        text-align: right;\n",
       "    }\n",
       "</style>\n",
       "<table border=\"1\" class=\"dataframe\">\n",
       "  <thead>\n",
       "    <tr style=\"text-align: right;\">\n",
       "      <th></th>\n",
       "      <th>Submission id</th>\n",
       "      <th>Participant id</th>\n",
       "      <th>Status</th>\n",
       "      <th>Custom study tncs accepted at</th>\n",
       "      <th>Started at</th>\n",
       "      <th>Completed at</th>\n",
       "      <th>Reviewed at</th>\n",
       "      <th>Archived at</th>\n",
       "      <th>Time taken</th>\n",
       "      <th>Completion code</th>\n",
       "      <th>...</th>\n",
       "      <th>Age</th>\n",
       "      <th>Sex</th>\n",
       "      <th>Ethnicity simplified</th>\n",
       "      <th>Country of birth</th>\n",
       "      <th>Country of residence</th>\n",
       "      <th>Nationality</th>\n",
       "      <th>Language</th>\n",
       "      <th>Student status</th>\n",
       "      <th>Employment status</th>\n",
       "      <th>If the user sent the message: \\n'hope u dont go bald'. \\n\\nIf the AI interpreted the intent as: \\n'This message seems to be expressing concern about the recipient potentially losing their hair.' \\n\\nDo you think the AI got the intent right?</th>\n",
       "    </tr>\n",
       "  </thead>\n",
       "  <tbody>\n",
       "    <tr>\n",
       "      <th>0</th>\n",
       "      <td>6865e83e935b6d6005bff9b4</td>\n",
       "      <td>668161c6c32c389a9edbffe5</td>\n",
       "      <td>APPROVED</td>\n",
       "      <td>Not Applicable</td>\n",
       "      <td>2025-07-03T02:17:37.588000Z</td>\n",
       "      <td>2025-07-03T02:21:58.816000Z</td>\n",
       "      <td>2025-07-03T02:22:00.896000Z</td>\n",
       "      <td>2025-07-03T02:21:59.236188Z</td>\n",
       "      <td>262</td>\n",
       "      <td>NOCODE</td>\n",
       "      <td>...</td>\n",
       "      <td>22</td>\n",
       "      <td>Female</td>\n",
       "      <td>White</td>\n",
       "      <td>United States</td>\n",
       "      <td>United States</td>\n",
       "      <td>United States</td>\n",
       "      <td>English</td>\n",
       "      <td>No</td>\n",
       "      <td>Full-Time</td>\n",
       "      <td>No</td>\n",
       "    </tr>\n",
       "    <tr>\n",
       "      <th>1</th>\n",
       "      <td>6865e845dde58d735ce38b71</td>\n",
       "      <td>667bd5012a43ab2c51a565ce</td>\n",
       "      <td>APPROVED</td>\n",
       "      <td>Not Applicable</td>\n",
       "      <td>2025-07-03T02:17:45.024000Z</td>\n",
       "      <td>2025-07-03T02:18:18.871000Z</td>\n",
       "      <td>2025-07-03T02:19:32.575000Z</td>\n",
       "      <td>2025-07-03T02:18:19.307539Z</td>\n",
       "      <td>34</td>\n",
       "      <td>NOCODE</td>\n",
       "      <td>...</td>\n",
       "      <td>28</td>\n",
       "      <td>Male</td>\n",
       "      <td>Other</td>\n",
       "      <td>United States</td>\n",
       "      <td>United States</td>\n",
       "      <td>United States</td>\n",
       "      <td>English</td>\n",
       "      <td>Yes</td>\n",
       "      <td>Other</td>\n",
       "      <td>Yes</td>\n",
       "    </tr>\n",
       "    <tr>\n",
       "      <th>2</th>\n",
       "      <td>6865e8b84f18f1cc8cfb10bb</td>\n",
       "      <td>663eaf71449fd111b8647d15</td>\n",
       "      <td>APPROVED</td>\n",
       "      <td>Not Applicable</td>\n",
       "      <td>2025-07-03T02:19:38.832000Z</td>\n",
       "      <td>2025-07-03T02:20:18.663000Z</td>\n",
       "      <td>2025-07-03T02:21:59.554000Z</td>\n",
       "      <td>2025-07-03T02:20:19.118464Z</td>\n",
       "      <td>40</td>\n",
       "      <td>NOCODE</td>\n",
       "      <td>...</td>\n",
       "      <td>28</td>\n",
       "      <td>Female</td>\n",
       "      <td>White</td>\n",
       "      <td>United States</td>\n",
       "      <td>United States</td>\n",
       "      <td>United States</td>\n",
       "      <td>English</td>\n",
       "      <td>Yes</td>\n",
       "      <td>Part-Time</td>\n",
       "      <td>No</td>\n",
       "    </tr>\n",
       "    <tr>\n",
       "      <th>3</th>\n",
       "      <td>6865e8c110c2c9654135dfe3</td>\n",
       "      <td>5ebc5816e32fec09c3cdf784</td>\n",
       "      <td>APPROVED</td>\n",
       "      <td>Not Applicable</td>\n",
       "      <td>2025-07-03T02:19:48.103000Z</td>\n",
       "      <td>2025-07-03T02:19:59.969000Z</td>\n",
       "      <td>2025-07-03T02:22:04.919000Z</td>\n",
       "      <td>2025-07-03T02:20:00.404428Z</td>\n",
       "      <td>12</td>\n",
       "      <td>NOCODE</td>\n",
       "      <td>...</td>\n",
       "      <td>27</td>\n",
       "      <td>Female</td>\n",
       "      <td>White</td>\n",
       "      <td>United States</td>\n",
       "      <td>United States</td>\n",
       "      <td>United States</td>\n",
       "      <td>English</td>\n",
       "      <td>No</td>\n",
       "      <td>Full-Time</td>\n",
       "      <td>Yes</td>\n",
       "    </tr>\n",
       "    <tr>\n",
       "      <th>4</th>\n",
       "      <td>6865e8d7d3a144cefe461d53</td>\n",
       "      <td>6682c4fcefd32e38eb8197b2</td>\n",
       "      <td>APPROVED</td>\n",
       "      <td>Not Applicable</td>\n",
       "      <td>2025-07-03T02:20:09.774000Z</td>\n",
       "      <td>2025-07-03T02:20:26.234000Z</td>\n",
       "      <td>2025-07-03T02:22:06.501000Z</td>\n",
       "      <td>NaN</td>\n",
       "      <td>17</td>\n",
       "      <td>NOCODE</td>\n",
       "      <td>...</td>\n",
       "      <td>25</td>\n",
       "      <td>Male</td>\n",
       "      <td>Black</td>\n",
       "      <td>United States</td>\n",
       "      <td>United States</td>\n",
       "      <td>United States</td>\n",
       "      <td>English</td>\n",
       "      <td>No</td>\n",
       "      <td>Unemployed (and job seeking)</td>\n",
       "      <td>Yes</td>\n",
       "    </tr>\n",
       "  </tbody>\n",
       "</table>\n",
       "<p>5 rows × 21 columns</p>\n",
       "</div>"
      ],
      "text/plain": [
       "              Submission id            Participant id    Status  \\\n",
       "0  6865e83e935b6d6005bff9b4  668161c6c32c389a9edbffe5  APPROVED   \n",
       "1  6865e845dde58d735ce38b71  667bd5012a43ab2c51a565ce  APPROVED   \n",
       "2  6865e8b84f18f1cc8cfb10bb  663eaf71449fd111b8647d15  APPROVED   \n",
       "3  6865e8c110c2c9654135dfe3  5ebc5816e32fec09c3cdf784  APPROVED   \n",
       "4  6865e8d7d3a144cefe461d53  6682c4fcefd32e38eb8197b2  APPROVED   \n",
       "\n",
       "  Custom study tncs accepted at                   Started at  \\\n",
       "0                Not Applicable  2025-07-03T02:17:37.588000Z   \n",
       "1                Not Applicable  2025-07-03T02:17:45.024000Z   \n",
       "2                Not Applicable  2025-07-03T02:19:38.832000Z   \n",
       "3                Not Applicable  2025-07-03T02:19:48.103000Z   \n",
       "4                Not Applicable  2025-07-03T02:20:09.774000Z   \n",
       "\n",
       "                  Completed at                  Reviewed at  \\\n",
       "0  2025-07-03T02:21:58.816000Z  2025-07-03T02:22:00.896000Z   \n",
       "1  2025-07-03T02:18:18.871000Z  2025-07-03T02:19:32.575000Z   \n",
       "2  2025-07-03T02:20:18.663000Z  2025-07-03T02:21:59.554000Z   \n",
       "3  2025-07-03T02:19:59.969000Z  2025-07-03T02:22:04.919000Z   \n",
       "4  2025-07-03T02:20:26.234000Z  2025-07-03T02:22:06.501000Z   \n",
       "\n",
       "                   Archived at  Time taken Completion code  ...  Age     Sex  \\\n",
       "0  2025-07-03T02:21:59.236188Z         262          NOCODE  ...   22  Female   \n",
       "1  2025-07-03T02:18:19.307539Z          34          NOCODE  ...   28    Male   \n",
       "2  2025-07-03T02:20:19.118464Z          40          NOCODE  ...   28  Female   \n",
       "3  2025-07-03T02:20:00.404428Z          12          NOCODE  ...   27  Female   \n",
       "4                          NaN          17          NOCODE  ...   25    Male   \n",
       "\n",
       "  Ethnicity simplified Country of birth Country of residence    Nationality  \\\n",
       "0                White    United States        United States  United States   \n",
       "1                Other    United States        United States  United States   \n",
       "2                White    United States        United States  United States   \n",
       "3                White    United States        United States  United States   \n",
       "4                Black    United States        United States  United States   \n",
       "\n",
       "  Language Student status             Employment status  \\\n",
       "0  English             No                     Full-Time   \n",
       "1  English            Yes                         Other   \n",
       "2  English            Yes                     Part-Time   \n",
       "3  English             No                     Full-Time   \n",
       "4  English             No  Unemployed (and job seeking)   \n",
       "\n",
       "  If the user sent the message: \\n'hope u dont go bald'. \\n\\nIf the AI interpreted the intent as: \\n'This message seems to be expressing concern about the recipient potentially losing their hair.' \\n\\nDo you think the AI got the intent right?  \n",
       "0                                                 No                                                                                                                                                                                                \n",
       "1                                                Yes                                                                                                                                                                                                \n",
       "2                                                 No                                                                                                                                                                                                \n",
       "3                                                Yes                                                                                                                                                                                                \n",
       "4                                                Yes                                                                                                                                                                                                \n",
       "\n",
       "[5 rows x 21 columns]"
      ]
     },
     "execution_count": 108,
     "metadata": {},
     "output_type": "execute_result"
    }
   ],
   "source": [
    "df"
   ]
  },
  {
   "cell_type": "code",
   "execution_count": 109,
   "id": "5cea46a5",
   "metadata": {},
   "outputs": [
    {
     "data": {
      "text/plain": [
       "'03 Jul 2025, 02:21 AM UTC'"
      ]
     },
     "execution_count": 109,
     "metadata": {},
     "output_type": "execute_result"
    }
   ],
   "source": [
    "# Format the latest completion time as a readable string\n",
    "completed_times = pd.to_datetime(df[\"Completed at\"], errors=\"coerce\")\n",
    "latest_completion = completed_times.dropna().max()\n",
    "formatted_time = latest_completion.strftime(\"%d %b %Y, %I:%M %p UTC\")\n",
    "\n",
    "formatted_time"
   ]
  },
  {
   "cell_type": "code",
   "execution_count": 110,
   "id": "6d177766",
   "metadata": {},
   "outputs": [
    {
     "name": "stdout",
     "output_type": "stream",
     "text": [
      "Study Completion Time: 5.00 minutes\n"
     ]
    }
   ],
   "source": [
    "time_format = \"%d %b %Y, %I:%M %p UTC\"\n",
    "\n",
    "created_dt = datetime.strptime(created_at, time_format)\n",
    "formatted_dt = datetime.strptime(formatted_time, time_format)\n",
    "\n",
    "duration = formatted_dt - created_dt\n",
    "\n",
    "duration_minutes = duration.total_seconds() / 60\n",
    "\n",
    "print(f\"Study Completion Time: {duration_minutes:.2f} minutes\")\n"
   ]
  },
  {
   "cell_type": "code",
   "execution_count": 113,
   "id": "31c68277",
   "metadata": {},
   "outputs": [
    {
     "name": "stdout",
     "output_type": "stream",
     "text": [
      "If the user sent the message: \\n'hope u dont go bald'. \\n\\nIf the AI interpreted the intent as: \\n'This message seems to be expressing concern about the recipient potentially losing their hair.' \\n\\nDo you think the AI got the intent right?\n",
      "Yes    3\n",
      "No     2\n",
      "Name: count, dtype: int64\n"
     ]
    },
    {
     "data": {
      "image/png": "[encoded data removed]",
      "text/plain": [
       "<Figure size 640x480 with 1 Axes>"
      ]
     },
     "metadata": {},
     "output_type": "display_data"
    }
   ],
   "source": [
    "df[df.columns[-1]].value_counts().plot(kind=\"bar\")\n",
    "print(df[df.columns[-1]].value_counts())\n",
    "\n",
    "plt.title(\"Did the AI get the intent right?\")\n",
    "plt.xlabel(\"Answer\")\n",
    "plt.ylabel(\"Count\")\n",
    "plt.xticks(rotation=0)\n",
    "plt.grid(axis=\"y\", linestyle=\"--\", alpha=0.7)\n",
    "plt.show()"
   ]
  },
  {
   "cell_type": "code",
   "execution_count": null,
   "id": "6c11685b",
   "metadata": {},
   "outputs": [],
   "source": []
  }
 ],
 "metadata": {
  "kernelspec": {
   "display_name": "classic",
   "language": "python",
   "name": "python3"
  },
  "language_info": {
   "codemirror_mode": {
    "name": "ipython",
    "version": 3
   },
   "file_extension": ".py",
   "mimetype": "text/x-python",
   "name": "python",
   "nbconvert_exporter": "python",
   "pygments_lexer": "ipython3",
   "version": "3.12.9"
  }
 },
 "nbformat": 4,
 "nbformat_minor": 5
}
